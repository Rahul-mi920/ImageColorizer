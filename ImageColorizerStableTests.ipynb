{
  "nbformat": 4,
  "nbformat_minor": 0,
  "metadata": {
    "kernelspec": {
      "display_name": "Python 3",
      "language": "python",
      "name": "python3"
    },
    "language_info": {
      "codemirror_mode": {
        "name": "ipython",
        "version": 3
      },
      "file_extension": ".py",
      "mimetype": "text/x-python",
      "name": "python",
      "nbconvert_exporter": "python",
      "pygments_lexer": "ipython3",
      "version": "3.7.6"
    },
    "toc": {
      "colors": {
        "hover_highlight": "#DAA520",
        "navigate_num": "#000000",
        "navigate_text": "#333333",
        "running_highlight": "#FF0000",
        "selected_highlight": "#FFD700",
        "sidebar_border": "#EEEEEE",
        "wrapper_background": "#FFFFFF"
      },
      "moveMenuLeft": true,
      "nav_menu": {
        "height": "67px",
        "width": "252px"
      },
      "navigate_menu": true,
      "number_sections": true,
      "sideBar": true,
      "threshold": 4,
      "toc_cell": false,
      "toc_section_display": "block",
      "toc_window_display": false,
      "widenNotebook": false
    },
    "colab": {
      "name": "ImageColorizerStableTests.ipynb",
      "provenance": []
    }
  },
  "cells": [
    {
      "cell_type": "code",
      "metadata": {
        "id": "97i_wb7aeQRk"
      },
      "source": [
        "#NOTE:  This must be the first call in order to work properly!\n",
        "from ImageColorizer import device\n",
        "from ImageColorizer.device_id import DeviceId\n",
        "#choices:  CPU, GPU0...GPU7\n",
        "device.set(device=DeviceId.GPU0)"
      ],
      "execution_count": null,
      "outputs": []
    },
    {
      "cell_type": "code",
      "metadata": {
        "id": "oN6er_zqeQRy"
      },
      "source": [
        "from ImageColorizer.visualize import *\n",
        "plt.style.use('dark_background')\n",
        "import warnings\n",
        "warnings.filterwarnings(\"ignore\", category=UserWarning, message=\".*?Your .*? set is empty.*?\")"
      ],
      "execution_count": null,
      "outputs": []
    },
    {
      "cell_type": "code",
      "metadata": {
        "id": "m57uyPvleQR0"
      },
      "source": [
        "#Adjust render_factor (int) if image doesn't look quite right (max 64 on 11GB GPU).  The default here works for most photos.  \n",
        "#It literally just is a number multiplied by 16 to get the square render resolution.  \n",
        "#Note that this doesn't affect the resolution of the final output- the output is the same resolution as the input.\n",
        "#Example:  render_factor=21 => color is rendered at 16x21 = 336x336 px.  \n",
        "render_factor=35"
      ],
      "execution_count": null,
      "outputs": []
    },
    {
      "cell_type": "code",
      "metadata": {
        "id": "s2K8j5_IeQR1"
      },
      "source": [
        "vis = get_image_colorizer(render_factor=render_factor, artistic=False)\n",
        "#vis = get_video_colorizer(render_factor=render_factor).vis"
      ],
      "execution_count": null,
      "outputs": []
    },
    {
      "cell_type": "code",
      "metadata": {
        "id": "JD-jJ9Y1eQR1"
      },
      "source": [
        "vis.plot_transformed_image(\"test_images/poolparty.jpg\", render_factor=45, compare=True)"
      ],
      "execution_count": null,
      "outputs": []
    },
    {
      "cell_type": "code",
      "metadata": {
        "id": "zjXIZJzweQR2"
      },
      "source": [
        "vis.plot_transformed_image(\"test_images/1852GatekeepersWindsor.jpg\", render_factor=44, compare=True)"
      ],
      "execution_count": null,
      "outputs": []
    },
    {
      "cell_type": "code",
      "metadata": {
        "id": "LRpCuM9veQR2"
      },
      "source": [
        "vis.plot_transformed_image(\"test_images/Chief.jpg\", render_factor=10, compare=True)"
      ],
      "execution_count": null,
      "outputs": []
    },
    {
      "cell_type": "code",
      "metadata": {
        "id": "dU93hPXZeQR2"
      },
      "source": [
        "vis.plot_transformed_image(\"test_images/1850SchoolForGirls.jpg\", render_factor=42, compare=True)"
      ],
      "execution_count": null,
      "outputs": []
    },
    {
      "cell_type": "code",
      "metadata": {
        "id": "jbZwEvdFeQR4"
      },
      "source": [
        "vis.plot_transformed_image(\"test_images/AtlanticCityBeach1905.jpg\", render_factor=32, compare=True)"
      ],
      "execution_count": null,
      "outputs": []
    },
    {
      "cell_type": "code",
      "metadata": {
        "id": "E-D_UpwLeQR4"
      },
      "source": [
        "vis.plot_transformed_image(\"test_images/CottonMillWorkers1913.jpg\", compare=True)"
      ],
      "execution_count": null,
      "outputs": []
    },
    {
      "cell_type": "code",
      "metadata": {
        "id": "j_QH6bBweQR4"
      },
      "source": [
        "vis.plot_transformed_image(\"test_images/BrooklynNavyYardHospital.jpg\", compare=True)"
      ],
      "execution_count": null,
      "outputs": []
    },
    {
      "cell_type": "code",
      "metadata": {
        "id": "oVfsjUiPeQR5"
      },
      "source": [
        "vis.plot_transformed_image(\"test_images/FinnishPeasant1867.jpg\", compare=True)"
      ],
      "execution_count": null,
      "outputs": []
    },
    {
      "cell_type": "code",
      "metadata": {
        "id": "vyKyy9daeQR5"
      },
      "source": [
        "vis.plot_transformed_image(\"test_images/AtlanticCity1905.png\", render_factor=40, compare=True)"
      ],
      "execution_count": null,
      "outputs": []
    },
    {
      "cell_type": "code",
      "metadata": {
        "id": "G_pNjXNbeQUo"
      },
      "source": [
        "vis.plot_transformed_image(\"test_images/PushingCart.jpg\", render_factor=24, compare=True)"
      ],
      "execution_count": null,
      "outputs": []
    },
    {
      "cell_type": "code",
      "metadata": {
        "id": "hZZUn_-3eQUo"
      },
      "source": [
        "vis.plot_transformed_image(\"test_images/Drive1905.jpg\", compare=True)"
      ],
      "execution_count": null,
      "outputs": []
    },
    {
      "cell_type": "code",
      "metadata": {
        "id": "-47hZQnPeQUq"
      },
      "source": [
        "vis.plot_transformed_image(\"test_images/IronLung.png\", render_factor=26, compare=True)"
      ],
      "execution_count": null,
      "outputs": []
    },
    {
      "cell_type": "code",
      "metadata": {
        "id": "bQT1fEYleQUq"
      },
      "source": [
        "vis.plot_transformed_image(\"test_images/FamilyWithDog.jpg\", compare=True)"
      ],
      "execution_count": null,
      "outputs": []
    },
    {
      "cell_type": "code",
      "metadata": {
        "id": "Ce6faf31eQUq"
      },
      "source": [
        "vis.plot_transformed_image(\"test_images/DayAtSeaBelgium.jpg\", compare=True)"
      ],
      "execution_count": null,
      "outputs": []
    },
    {
      "cell_type": "code",
      "metadata": {
        "id": "ChUxmjf1eQUr"
      },
      "source": [
        "vis.plot_transformed_image(\"test_images/marilyn_woods.jpg\", render_factor=16, compare=True)"
      ],
      "execution_count": null,
      "outputs": []
    },
    {
      "cell_type": "code",
      "metadata": {
        "id": "OX4OHLT7eQUr"
      },
      "source": [
        "vis.plot_transformed_image(\"test_images/OldWomanSweden1904.jpg\", render_factor=20, compare=True)"
      ],
      "execution_count": null,
      "outputs": []
    },
    {
      "cell_type": "code",
      "metadata": {
        "id": "Gitjj45leQUr"
      },
      "source": [
        "vis.plot_transformed_image(\"test_images/WomenTapingPlanes.jpg\", compare=True)"
      ],
      "execution_count": null,
      "outputs": []
    },
    {
      "cell_type": "code",
      "metadata": {
        "id": "BOLdxt0BeQUs"
      },
      "source": [
        "vis.plot_transformed_image(\"test_images/overmiller.jpg\", render_factor=30, compare=True)"
      ],
      "execution_count": null,
      "outputs": []
    },
    {
      "cell_type": "code",
      "metadata": {
        "id": "MN1HugDeeQUs"
      },
      "source": [
        "vis.plot_transformed_image(\"test_images/BritishDispatchRider.jpg\", render_factor=16, compare=True)"
      ],
      "execution_count": null,
      "outputs": []
    },
    {
      "cell_type": "code",
      "metadata": {
        "id": "_lUUjKDpeQUs"
      },
      "source": [
        "vis.plot_transformed_image(\"test_images/MuseauNacionalDosCoches.jpg\", render_factor=19, compare=True)"
      ],
      "execution_count": null,
      "outputs": []
    },
    {
      "cell_type": "code",
      "metadata": {
        "id": "O_-w9FAReQUt"
      },
      "source": [
        "vis.plot_transformed_image(\"test_images/abe.jpg\", render_factor=13, compare=True)"
      ],
      "execution_count": null,
      "outputs": []
    },
    {
      "cell_type": "code",
      "metadata": {
        "id": "1Zxpqv_6eQUt"
      },
      "source": [
        "vis.plot_transformed_image(\"test_images/RossCorbettHouseCork.jpg\", render_factor=40, compare=True)"
      ],
      "execution_count": null,
      "outputs": []
    },
    {
      "cell_type": "code",
      "metadata": {
        "id": "dTStF5pzeQUt"
      },
      "source": [
        "vis.plot_transformed_image(\"test_images/HPLabelleOfficeMontreal.jpg\", render_factor=44, compare=True)"
      ],
      "execution_count": null,
      "outputs": []
    },
    {
      "cell_type": "code",
      "metadata": {
        "id": "dd60CCsreQUt"
      },
      "source": [
        "vis.plot_transformed_image(\"test_images/einstein_beach.jpg\", render_factor=32, compare=True)"
      ],
      "execution_count": null,
      "outputs": []
    },
    {
      "cell_type": "code",
      "metadata": {
        "id": "D2AVn4NQeQUt"
      },
      "source": [
        "vis.plot_transformed_image(\"test_images/airmen1943.jpg\", compare=True)"
      ],
      "execution_count": null,
      "outputs": []
    },
    {
      "cell_type": "code",
      "metadata": {
        "id": "RH2PEE37eQUu"
      },
      "source": [
        "vis.plot_transformed_image(\"test_images/20sWoman.jpg\", render_factor=24, compare=True)"
      ],
      "execution_count": null,
      "outputs": []
    },
    {
      "cell_type": "code",
      "metadata": {
        "id": "KGRR-Q8reQUu"
      },
      "source": [
        "vis.plot_transformed_image(\"test_images/egypt-1.jpg\", render_factor=18, compare=True)"
      ],
      "execution_count": null,
      "outputs": []
    },
    {
      "cell_type": "code",
      "metadata": {
        "id": "HN3HGxU_eQUu"
      },
      "source": [
        "vis.plot_transformed_image(\"test_images/Rutherford_Hayes.jpg\", compare=True)"
      ],
      "execution_count": null,
      "outputs": []
    },
    {
      "cell_type": "code",
      "metadata": {
        "id": "J94qP0EieQUu"
      },
      "source": [
        "vis.plot_transformed_image(\"test_images/einstein_portrait.jpg\", render_factor=15, compare=True)"
      ],
      "execution_count": null,
      "outputs": []
    },
    {
      "cell_type": "code",
      "metadata": {
        "id": "_3xS8gf-eQUv"
      },
      "source": [
        "vis.plot_transformed_image(\"test_images/pinkerton.jpg\", render_factor=7, compare=True)"
      ],
      "execution_count": null,
      "outputs": []
    },
    {
      "cell_type": "code",
      "metadata": {
        "id": "BeMEm2-UeQUv"
      },
      "source": [
        "vis.plot_transformed_image(\"test_images/WaltWhitman.jpg\", render_factor=9, compare=True)"
      ],
      "execution_count": null,
      "outputs": []
    },
    {
      "cell_type": "code",
      "metadata": {
        "id": "02IXp2ObeQUv"
      },
      "source": [
        "vis.plot_transformed_image(\"test_images/dorothea-lange.jpg\", render_factor=18, compare=True)"
      ],
      "execution_count": null,
      "outputs": []
    },
    {
      "cell_type": "code",
      "metadata": {
        "id": "Z700P8EEeQUv"
      },
      "source": [
        "vis.plot_transformed_image(\"test_images/Hemmingway2.jpg\", render_factor=22, compare=True)"
      ],
      "execution_count": null,
      "outputs": []
    },
    {
      "cell_type": "code",
      "metadata": {
        "id": "e7TrYx3leQUw"
      },
      "source": [
        "vis.plot_transformed_image(\"test_images/hemmingway.jpg\", render_factor=14, compare=True)"
      ],
      "execution_count": null,
      "outputs": []
    },
    {
      "cell_type": "code",
      "metadata": {
        "id": "Ou9B1XlJeQUw"
      },
      "source": [
        "vis.plot_transformed_image(\"test_images/smoking_kid.jpg\", render_factor=35, compare=True)"
      ],
      "execution_count": null,
      "outputs": []
    },
    {
      "cell_type": "code",
      "metadata": {
        "id": "lOYJvSRieQUw"
      },
      "source": [
        "vis.plot_transformed_image(\"test_images/teddy_rubble.jpg\", render_factor=42, compare=True)"
      ],
      "execution_count": null,
      "outputs": []
    },
    {
      "cell_type": "code",
      "metadata": {
        "id": "V-sVaH_eeQUw"
      },
      "source": [
        "vis.plot_transformed_image(\"test_images/dustbowl_2.jpg\", render_factor=16, compare=True)"
      ],
      "execution_count": null,
      "outputs": []
    },
    {
      "cell_type": "code",
      "metadata": {
        "id": "gYibjzw8eQUx"
      },
      "source": [
        "vis.plot_transformed_image(\"test_images/camera_man.jpg\", render_factor=25, compare=True)"
      ],
      "execution_count": null,
      "outputs": []
    },
    {
      "cell_type": "code",
      "metadata": {
        "id": "cMBKskTfeQUx"
      },
      "source": [
        "vis.plot_transformed_image(\"test_images/migrant_mother.jpg\", render_factor=32, compare=True)"
      ],
      "execution_count": null,
      "outputs": []
    },
    {
      "cell_type": "code",
      "metadata": {
        "id": "9lyY3jgaeQUx"
      },
      "source": [
        "vis.plot_transformed_image(\"test_images/marktwain.jpg\", render_factor=14, compare=True)"
      ],
      "execution_count": null,
      "outputs": []
    },
    {
      "cell_type": "code",
      "metadata": {
        "id": "L-gTVAcHeQU5"
      },
      "source": [
        "vis.plot_transformed_image(\"test_images/HelenKeller.jpg\", render_factor=35, compare=True)"
      ],
      "execution_count": null,
      "outputs": []
    },
    {
      "cell_type": "code",
      "metadata": {
        "id": "pkYYYffreQU5"
      },
      "source": [
        "vis.plot_transformed_image(\"test_images/Evelyn_Nesbit.jpg\", render_factor=25, compare=True)"
      ],
      "execution_count": null,
      "outputs": []
    },
    {
      "cell_type": "code",
      "metadata": {
        "id": "m947pTwTeQU6"
      },
      "source": [
        "vis.plot_transformed_image(\"test_images/Eddie-Adams.jpg\", compare=True)"
      ],
      "execution_count": null,
      "outputs": []
    },
    {
      "cell_type": "code",
      "metadata": {
        "id": "iFKO6VTTeQU6"
      },
      "source": [
        "vis.plot_transformed_image(\"test_images/soldier_kids.jpg\", compare=True)"
      ],
      "execution_count": null,
      "outputs": []
    },
    {
      "cell_type": "code",
      "metadata": {
        "id": "MtZo3OVJeQU6"
      },
      "source": [
        "vis.plot_transformed_image(\"test_images/AnselAdamsYosemite.jpg\", compare=True)"
      ],
      "execution_count": null,
      "outputs": []
    },
    {
      "cell_type": "code",
      "metadata": {
        "id": "nMFL3zMIeQU6"
      },
      "source": [
        "vis.plot_transformed_image(\"test_images/unnamed.jpg\", render_factor=28, compare=True)"
      ],
      "execution_count": null,
      "outputs": []
    },
    {
      "cell_type": "code",
      "metadata": {
        "id": "JvgeXf6ieQU7"
      },
      "source": [
        "vis.plot_transformed_image(\"test_images/workers_canyon.jpg\", render_factor=45, compare=True)"
      ],
      "execution_count": null,
      "outputs": []
    },
    {
      "cell_type": "code",
      "metadata": {
        "id": "wEYuztOmeQU7"
      },
      "source": [
        "vis.plot_transformed_image(\"test_images/CottonMill.jpg\", compare=True)"
      ],
      "execution_count": null,
      "outputs": []
    },
    {
      "cell_type": "code",
      "metadata": {
        "id": "C0dW62CveQU8"
      },
      "source": [
        "vis.plot_transformed_image(\"test_images/JudyGarland.jpeg\", compare=True)"
      ],
      "execution_count": null,
      "outputs": []
    },
    {
      "cell_type": "code",
      "metadata": {
        "id": "Rct3h0jCeQU8"
      },
      "source": [
        "vis.plot_transformed_image(\"test_images/kids_pit.jpg\", render_factor=30, compare=True)"
      ],
      "execution_count": null,
      "outputs": []
    },
    {
      "cell_type": "code",
      "metadata": {
        "id": "FJzlbvPReQU8"
      },
      "source": [
        "vis.plot_transformed_image(\"test_images/last_samurai.jpg\", render_factor=22, compare=True)"
      ],
      "execution_count": null,
      "outputs": []
    },
    {
      "cell_type": "code",
      "metadata": {
        "id": "Dq_ppNpMeQV9"
      },
      "source": [
        "vis.plot_transformed_image(\"test_images/AnselAdamsWhiteChurch.jpg\", render_factor=25, compare=True)"
      ],
      "execution_count": null,
      "outputs": []
    },
    {
      "cell_type": "code",
      "metadata": {
        "id": "2bB_jY_DeQV-"
      },
      "source": [
        "vis.plot_transformed_image(\"test_images/opium.jpg\", render_factor=30, compare=True)"
      ],
      "execution_count": null,
      "outputs": []
    },
    {
      "cell_type": "code",
      "metadata": {
        "id": "14L2grPEeQV-"
      },
      "source": [
        "vis.plot_transformed_image(\"test_images/dorothea_lange_2.jpg\", render_factor=42, compare=True)"
      ],
      "execution_count": null,
      "outputs": []
    },
    {
      "cell_type": "code",
      "metadata": {
        "id": "iwuUn7fceQV-"
      },
      "source": [
        "vis.plot_transformed_image(\"test_images/rgs.jpg\", compare=True)"
      ],
      "execution_count": null,
      "outputs": []
    },
    {
      "cell_type": "code",
      "metadata": {
        "id": "A-yZWKVveQV-"
      },
      "source": [
        "vis.plot_transformed_image(\"test_images/wh-auden.jpg\", compare=True)"
      ],
      "execution_count": null,
      "outputs": []
    },
    {
      "cell_type": "code",
      "metadata": {
        "id": "k8DH6jDIeQV_"
      },
      "source": [
        "vis.plot_transformed_image(\"test_images/w-b-yeats.jpg\", compare=True)"
      ],
      "execution_count": null,
      "outputs": []
    },
    {
      "cell_type": "code",
      "metadata": {
        "id": "FxtXcCaIeQV_"
      },
      "source": [
        "vis.plot_transformed_image(\"test_images/marilyn_portrait.jpg\", compare=True)"
      ],
      "execution_count": null,
      "outputs": []
    },
    {
      "cell_type": "code",
      "metadata": {
        "id": "KGuH9dLTeQV_"
      },
      "source": [
        "vis.plot_transformed_image(\"test_images/wilson-slaverevivalmeeting.jpg\", render_factor=45, compare=True)"
      ],
      "execution_count": null,
      "outputs": []
    },
    {
      "cell_type": "code",
      "metadata": {
        "id": "rXILnBjUeQV_"
      },
      "source": [
        "vis.plot_transformed_image(\"test_images/ww1_trench.jpg\", render_factor=18, compare=True)"
      ],
      "execution_count": null,
      "outputs": []
    },
    {
      "cell_type": "code",
      "metadata": {
        "id": "_uKkQICBeQV_"
      },
      "source": [
        "vis.plot_transformed_image(\"test_images/women-bikers.png\", render_factor=23, compare=True)"
      ],
      "execution_count": null,
      "outputs": []
    },
    {
      "cell_type": "code",
      "metadata": {
        "id": "OsJVlmgQeQWA"
      },
      "source": [
        "vis.plot_transformed_image(\"test_images/Unidentified1855.jpg\", render_factor=19, compare=True)"
      ],
      "execution_count": null,
      "outputs": []
    },
    {
      "cell_type": "code",
      "metadata": {
        "id": "_wh3v3iueQWA"
      },
      "source": [
        "vis.plot_transformed_image(\"test_images/skycrapper_lunch.jpg\", render_factor=25, compare=True)"
      ],
      "execution_count": null,
      "outputs": []
    },
    {
      "cell_type": "code",
      "metadata": {
        "id": "dX298ueSeQWA"
      },
      "source": [
        "vis.plot_transformed_image(\"test_images/sioux.jpg\", render_factor=28, compare=True)"
      ],
      "execution_count": null,
      "outputs": []
    },
    {
      "cell_type": "code",
      "metadata": {
        "id": "-4mlc_1JeQWA"
      },
      "source": [
        "vis.plot_transformed_image(\"test_images/school_kids.jpg\", render_factor=20, compare=True)"
      ],
      "execution_count": null,
      "outputs": []
    },
    {
      "cell_type": "code",
      "metadata": {
        "id": "Osx1zwJ4eQWA"
      },
      "source": [
        "vis.plot_transformed_image(\"test_images/royal_family.jpg\", render_factor=42, compare=True)"
      ],
      "execution_count": null,
      "outputs": []
    },
    {
      "cell_type": "code",
      "metadata": {
        "id": "5fjjrIKreQWA"
      },
      "source": [
        "vis.plot_transformed_image(\"test_images/redwood_lumberjacks.jpg\", render_factor=45, compare=True)"
      ],
      "execution_count": null,
      "outputs": []
    },
    {
      "cell_type": "code",
      "metadata": {
        "id": "3M95s0XKeQWB"
      },
      "source": [
        "vis.plot_transformed_image(\"test_images/poverty.jpg\", render_factor=40, compare=True)"
      ],
      "execution_count": null,
      "outputs": []
    },
    {
      "cell_type": "code",
      "metadata": {
        "id": "VNbEDzDaeQWB"
      },
      "source": [
        "vis.plot_transformed_image(\"test_images/paperboy.jpg\", render_factor=45, compare=True)"
      ],
      "execution_count": null,
      "outputs": []
    },
    {
      "cell_type": "code",
      "metadata": {
        "id": "wWOqLnAleQWB"
      },
      "source": [
        "vis.plot_transformed_image(\"test_images/NativeAmericans.jpg\", render_factor=21, compare=True)"
      ],
      "execution_count": null,
      "outputs": []
    },
    {
      "cell_type": "code",
      "metadata": {
        "id": "QOQJDytveQWB"
      },
      "source": [
        "vis.plot_transformed_image(\"test_images/helmut_newton-.jpg\", compare=True)"
      ],
      "execution_count": null,
      "outputs": []
    },
    {
      "cell_type": "code",
      "metadata": {
        "id": "vjWV3Ku4eQWB"
      },
      "source": [
        "vis.plot_transformed_image(\"test_images/Greece1911.jpg\", render_factor=44, compare=True)"
      ],
      "execution_count": null,
      "outputs": []
    },
    {
      "cell_type": "code",
      "metadata": {
        "id": "uEH3ShnMeQWC"
      },
      "source": [
        "vis.plot_transformed_image(\"test_images/FatMenClub.jpg\", render_factor=18, compare=True)"
      ],
      "execution_count": null,
      "outputs": []
    },
    {
      "cell_type": "code",
      "metadata": {
        "id": "iyd1jctleQWC"
      },
      "source": [
        "vis.plot_transformed_image(\"test_images/EgyptColosus.jpg\", compare=True)"
      ],
      "execution_count": null,
      "outputs": []
    },
    {
      "cell_type": "code",
      "metadata": {
        "id": "ar0mnKoxeQWC"
      },
      "source": [
        "vis.plot_transformed_image(\"test_images/egypt-2.jpg\", compare=True)"
      ],
      "execution_count": null,
      "outputs": []
    },
    {
      "cell_type": "code",
      "metadata": {
        "id": "cmytlAAZeQWC"
      },
      "source": [
        "vis.plot_transformed_image(\"test_images/dustbowl_sd.jpg\", compare=True)"
      ],
      "execution_count": null,
      "outputs": []
    },
    {
      "cell_type": "code",
      "metadata": {
        "id": "C40T4IC_eQWC"
      },
      "source": [
        "vis.plot_transformed_image(\"test_images/dustbowl_people.jpg\", render_factor=24, compare=True)"
      ],
      "execution_count": null,
      "outputs": []
    },
    {
      "cell_type": "code",
      "metadata": {
        "id": "HN7RwuUgeQWC"
      },
      "source": [
        "vis.plot_transformed_image(\"test_images/dustbowl_5.jpg\", compare=True)"
      ],
      "execution_count": null,
      "outputs": []
    },
    {
      "cell_type": "code",
      "metadata": {
        "id": "4mpC2PlyeQWD"
      },
      "source": [
        "vis.plot_transformed_image(\"test_images/dustbowl_1.jpg\", compare=True)"
      ],
      "execution_count": null,
      "outputs": []
    },
    {
      "cell_type": "code",
      "metadata": {
        "id": "ljXWivTqeQWD"
      },
      "source": [
        "vis.plot_transformed_image(\"test_images/DriveThroughGiantTree.jpg\", render_factor=21, compare=True)"
      ],
      "execution_count": null,
      "outputs": []
    },
    {
      "cell_type": "code",
      "metadata": {
        "id": "AfcZ3GNGeQWE"
      },
      "source": [
        "vis.plot_transformed_image(\"test_images/covered-wagons-traveling.jpg\", compare=True)"
      ],
      "execution_count": null,
      "outputs": []
    },
    {
      "cell_type": "code",
      "metadata": {
        "id": "U7WJBFRSeQWE"
      },
      "source": [
        "vis.plot_transformed_image(\"test_images/civil-war_2.jpg\", render_factor=42, compare=True)"
      ],
      "execution_count": null,
      "outputs": []
    },
    {
      "cell_type": "code",
      "metadata": {
        "id": "KEM48Px1eQWE"
      },
      "source": [
        "vis.plot_transformed_image(\"test_images/civil_war_4.jpg\", compare=True)"
      ],
      "execution_count": null,
      "outputs": []
    },
    {
      "cell_type": "code",
      "metadata": {
        "id": "5adojx3veQWE"
      },
      "source": [
        "vis.plot_transformed_image(\"test_images/civil_war_3.jpg\", render_factor=28, compare=True)"
      ],
      "execution_count": null,
      "outputs": []
    },
    {
      "cell_type": "code",
      "metadata": {
        "id": "7bK563HxeQWE"
      },
      "source": [
        "vis.plot_transformed_image(\"test_images/civil_war.jpg\", compare=True)"
      ],
      "execution_count": null,
      "outputs": []
    },
    {
      "cell_type": "code",
      "metadata": {
        "id": "55OgJOQ8eQWE"
      },
      "source": [
        "vis.plot_transformed_image(\"test_images/BritishSlum.jpg\", render_factor=30, compare=True)"
      ],
      "execution_count": null,
      "outputs": []
    },
    {
      "cell_type": "code",
      "metadata": {
        "id": "4Cxm2ofEeQWI"
      },
      "source": [
        "vis.plot_transformed_image(\"test_images/bicycles.jpg\", render_factor=27, compare=True)"
      ],
      "execution_count": null,
      "outputs": []
    },
    {
      "cell_type": "code",
      "metadata": {
        "id": "ogRrtFLPeQWI"
      },
      "source": [
        "vis.plot_transformed_image(\"test_images/brooklyn_girls_1940s.jpg\", compare=True)"
      ],
      "execution_count": null,
      "outputs": []
    },
    {
      "cell_type": "code",
      "metadata": {
        "id": "_HE4r-SAeQWJ"
      },
      "source": [
        "vis.plot_transformed_image(\"test_images/40sCouple.jpg\", render_factor=21, compare=True)"
      ],
      "execution_count": null,
      "outputs": []
    },
    {
      "cell_type": "code",
      "metadata": {
        "id": "v5eahQeseQWK"
      },
      "source": [
        "vis.plot_transformed_image(\"test_images/1946Wedding.jpg\", compare=True)"
      ],
      "execution_count": null,
      "outputs": []
    },
    {
      "cell_type": "code",
      "metadata": {
        "id": "6QHejOS8eQWK"
      },
      "source": [
        "vis.plot_transformed_image(\"test_images/Dolores1920s.jpg\", render_factor=18, compare=True)"
      ],
      "execution_count": null,
      "outputs": []
    },
    {
      "cell_type": "code",
      "metadata": {
        "id": "DRTkQGH1eQWK"
      },
      "source": [
        "vis.plot_transformed_image(\"test_images/TitanicGym.jpg\", render_factor=26, compare=True)"
      ],
      "execution_count": null,
      "outputs": []
    },
    {
      "cell_type": "code",
      "metadata": {
        "id": "kJ9qAB6ReQWK"
      },
      "source": [
        "vis.plot_transformed_image(\"test_images/FrenchVillage1950s.jpg\", render_factor=41, compare=True)"
      ],
      "execution_count": null,
      "outputs": []
    },
    {
      "cell_type": "code",
      "metadata": {
        "id": "Hi8ICFLueQWK"
      },
      "source": [
        "vis.plot_transformed_image(\"test_images/FrenchVillage1950s.jpg\", render_factor=32, compare=True)"
      ],
      "execution_count": null,
      "outputs": []
    },
    {
      "cell_type": "code",
      "metadata": {
        "id": "9qsZ1dIWeQWM"
      },
      "source": [
        "vis.plot_transformed_image(\"test_images/ClassDivide1930sBrittain.jpg\", render_factor=45, compare=True)"
      ],
      "execution_count": null,
      "outputs": []
    },
    {
      "cell_type": "code",
      "metadata": {
        "id": "t0sfxNMGeQWN"
      },
      "source": [
        "vis.plot_transformed_image(\"test_images/1870sSphinx.jpg\", compare=True)"
      ],
      "execution_count": null,
      "outputs": []
    },
    {
      "cell_type": "code",
      "metadata": {
        "id": "nCSPudGzeQWO"
      },
      "source": [
        "vis.plot_transformed_image(\"test_images/1890Surfer.png\", render_factor=37, compare=True)"
      ],
      "execution_count": null,
      "outputs": []
    },
    {
      "cell_type": "code",
      "metadata": {
        "id": "FzXLWjI1eQWO"
      },
      "source": [
        "vis.plot_transformed_image(\"test_images/TV1930s.jpg\", render_factor=43, compare=True)"
      ],
      "execution_count": null,
      "outputs": []
    },
    {
      "cell_type": "code",
      "metadata": {
        "id": "KgA7hcpReQWO"
      },
      "source": [
        "vis.plot_transformed_image(\"test_images/1864UnionSoldier.jpg\", compare=True)"
      ],
      "execution_count": null,
      "outputs": []
    },
    {
      "cell_type": "code",
      "metadata": {
        "id": "WYCpI9jGeQWO"
      },
      "source": [
        "vis.plot_transformed_image(\"test_images/1890sMedStudents.jpg\", render_factor=18, compare=True)"
      ],
      "execution_count": null,
      "outputs": []
    },
    {
      "cell_type": "code",
      "metadata": {
        "id": "41NqlXo-eQWP"
      },
      "source": [
        "vis.plot_transformed_image(\"test_images/BellyLaughWWI.jpg\", compare=True)"
      ],
      "execution_count": null,
      "outputs": []
    },
    {
      "cell_type": "code",
      "metadata": {
        "id": "RPGiV-L7eQWP"
      },
      "source": [
        "vis.plot_transformed_image(\"test_images/PiggyBackRide.jpg\", compare=True)"
      ],
      "execution_count": null,
      "outputs": []
    },
    {
      "cell_type": "code",
      "metadata": {
        "id": "b2S72NQHeQWP"
      },
      "source": [
        "vis.plot_transformed_image(\"test_images/HealingTree.jpg\", compare=True)"
      ],
      "execution_count": null,
      "outputs": []
    },
    {
      "cell_type": "code",
      "metadata": {
        "id": "kWgQJVCYeQWP"
      },
      "source": [
        "vis.plot_transformed_image(\"test_images/ManPile.jpg\", compare=True)"
      ],
      "execution_count": null,
      "outputs": []
    },
    {
      "cell_type": "code",
      "metadata": {
        "id": "5j3eBhgjeQWQ"
      },
      "source": [
        "vis.plot_transformed_image(\"test_images/1910Bike.jpg\", compare=True)"
      ],
      "execution_count": null,
      "outputs": []
    },
    {
      "cell_type": "code",
      "metadata": {
        "id": "T-V3DZ2EeQWQ"
      },
      "source": [
        "vis.plot_transformed_image(\"test_images/FreeportIL.jpg\", compare=True)"
      ],
      "execution_count": null,
      "outputs": []
    },
    {
      "cell_type": "code",
      "metadata": {
        "id": "oAFJ8tyneQWQ"
      },
      "source": [
        "vis.plot_transformed_image(\"test_images/DutchBabyCoupleEllis.jpg\", compare=True)"
      ],
      "execution_count": null,
      "outputs": []
    },
    {
      "cell_type": "code",
      "metadata": {
        "id": "ZoW-CTYceQWR"
      },
      "source": [
        "vis.plot_transformed_image(\"test_images/InuitWoman1903.png\", compare=True)"
      ],
      "execution_count": null,
      "outputs": []
    },
    {
      "cell_type": "code",
      "metadata": {
        "id": "qr4ZP50VeQWR"
      },
      "source": [
        "vis.plot_transformed_image(\"test_images/1920sDancing.jpg\", compare=True)"
      ],
      "execution_count": null,
      "outputs": []
    },
    {
      "cell_type": "code",
      "metadata": {
        "id": "6KvR5PjGeQWS"
      },
      "source": [
        "vis.plot_transformed_image(\"test_images/AirmanDad.jpg\", render_factor=13, compare=True)"
      ],
      "execution_count": null,
      "outputs": []
    },
    {
      "cell_type": "code",
      "metadata": {
        "id": "H-NOa9RseQWS"
      },
      "source": [
        "vis.plot_transformed_image(\"test_images/1910Racket.png\", render_factor=30, compare=True)"
      ],
      "execution_count": null,
      "outputs": []
    },
    {
      "cell_type": "code",
      "metadata": {
        "id": "Y2iqu2QOeQWS"
      },
      "source": [
        "vis.plot_transformed_image(\"test_images/1880Paris.jpg\", render_factor=16, compare=True)"
      ],
      "execution_count": null,
      "outputs": []
    },
    {
      "cell_type": "code",
      "metadata": {
        "id": "FrJ7ugAxeQWS"
      },
      "source": [
        "vis.plot_transformed_image(\"test_images/Deadwood1860s.jpg\", render_factor=13, compare=True)"
      ],
      "execution_count": null,
      "outputs": []
    },
    {
      "cell_type": "code",
      "metadata": {
        "id": "7NA_vxs-eQWS"
      },
      "source": [
        "vis.plot_transformed_image(\"test_images/1860sSamauris.jpg\", render_factor=43, compare=True)"
      ],
      "execution_count": null,
      "outputs": []
    },
    {
      "cell_type": "code",
      "metadata": {
        "id": "8KZWT1-ueQWS"
      },
      "source": [
        "vis.plot_transformed_image(\"test_images/LondonUnderground1860.jpg\", render_factor=45, compare=True)"
      ],
      "execution_count": null,
      "outputs": []
    },
    {
      "cell_type": "code",
      "metadata": {
        "id": "6ps841MEeQWT"
      },
      "source": [
        "vis.plot_transformed_image(\"test_images/Mid1800sSisters.jpg\", compare=True)"
      ],
      "execution_count": null,
      "outputs": []
    },
    {
      "cell_type": "code",
      "metadata": {
        "id": "XecBBDdfeQWU"
      },
      "source": [
        "vis.plot_transformed_image(\"test_images/1860Girls.jpg\", render_factor=45, compare=True)"
      ],
      "execution_count": null,
      "outputs": []
    },
    {
      "cell_type": "code",
      "metadata": {
        "id": "0HH9CjYoeQWV"
      },
      "source": [
        "vis.plot_transformed_image(\"test_images/SanFran1851.jpg\", render_factor=44, compare=True)"
      ],
      "execution_count": null,
      "outputs": []
    },
    {
      "cell_type": "code",
      "metadata": {
        "id": "J1OvCdtJeQWW"
      },
      "source": [
        "vis.plot_transformed_image(\"test_images/Kabuki1870s.png\", render_factor=8, compare=True)"
      ],
      "execution_count": null,
      "outputs": []
    },
    {
      "cell_type": "code",
      "metadata": {
        "id": "HLRnhCIEeQWW"
      },
      "source": [
        "vis.plot_transformed_image(\"test_images/Mormons1870s.jpg\", render_factor=44, compare=True)"
      ],
      "execution_count": null,
      "outputs": []
    },
    {
      "cell_type": "code",
      "metadata": {
        "id": "mFY8d8v8eQWX"
      },
      "source": [
        "vis.plot_transformed_image(\"test_images/EgyptianWomenLate1800s.jpg\", render_factor=44, compare=True)"
      ],
      "execution_count": null,
      "outputs": []
    },
    {
      "cell_type": "code",
      "metadata": {
        "id": "Xj6ofuwneQWY"
      },
      "source": [
        "vis.plot_transformed_image(\"test_images/PicadillyLate1800s.jpg\", render_factor=26, compare=True)"
      ],
      "execution_count": null,
      "outputs": []
    },
    {
      "cell_type": "code",
      "metadata": {
        "id": "ZmrVhPlzeQWt"
      },
      "source": [
        "vis.plot_transformed_image(\"test_images/SutroBaths1880s.jpg\", compare=True)"
      ],
      "execution_count": null,
      "outputs": []
    },
    {
      "cell_type": "code",
      "metadata": {
        "id": "oeel5NJNeQWu"
      },
      "source": [
        "vis.plot_transformed_image(\"test_images/1880sBrooklynBridge.jpg\", compare=True)"
      ],
      "execution_count": null,
      "outputs": []
    },
    {
      "cell_type": "code",
      "metadata": {
        "id": "XQsL5TPbeQWu"
      },
      "source": [
        "vis.plot_transformed_image(\"test_images/ChinaOpiumc1880.jpg\", render_factor=30, compare=True)"
      ],
      "execution_count": null,
      "outputs": []
    },
    {
      "cell_type": "code",
      "metadata": {
        "id": "9ZSbTbNXeQWv"
      },
      "source": [
        "vis.plot_transformed_image(\"test_images/Locomotive1880s.jpg\", render_factor=9, compare=True)"
      ],
      "execution_count": null,
      "outputs": []
    },
    {
      "cell_type": "code",
      "metadata": {
        "id": "oAqqesGJeQWv"
      },
      "source": [
        "vis.plot_transformed_image(\"test_images/ViennaBoys1880s.png\", compare=True)"
      ],
      "execution_count": null,
      "outputs": []
    },
    {
      "cell_type": "code",
      "metadata": {
        "id": "y_sT4WgzeQWv"
      },
      "source": [
        "vis.plot_transformed_image(\"test_images/VictorianDragQueen1880s.png\", compare=True)"
      ],
      "execution_count": null,
      "outputs": []
    },
    {
      "cell_type": "code",
      "metadata": {
        "id": "YanZqvT0eQWv"
      },
      "source": [
        "vis.plot_transformed_image(\"test_images/Sami1880s.jpg\", render_factor=44, compare=True)"
      ],
      "execution_count": null,
      "outputs": []
    },
    {
      "cell_type": "code",
      "metadata": {
        "id": "RJRq7Q9peQWy"
      },
      "source": [
        "vis.plot_transformed_image(\"test_images/ArkansasCowboys1880s.jpg\", render_factor=22, compare=True)"
      ],
      "execution_count": null,
      "outputs": []
    },
    {
      "cell_type": "code",
      "metadata": {
        "id": "GMnDgu7EeQWy"
      },
      "source": [
        "vis.plot_transformed_image(\"test_images/Ballet1890Russia.jpg\", render_factor=40, compare=True)"
      ],
      "execution_count": null,
      "outputs": []
    },
    {
      "cell_type": "code",
      "metadata": {
        "id": "t95ZXuvHeQWz"
      },
      "source": [
        "vis.plot_transformed_image(\"test_images/Rottindean1890s.png\", render_factor=20, compare=True)"
      ],
      "execution_count": null,
      "outputs": []
    },
    {
      "cell_type": "code",
      "metadata": {
        "id": "2nDdCrRTeQWz"
      },
      "source": [
        "vis.plot_transformed_image(\"test_images/1890sPingPong.jpg\", compare=True)"
      ],
      "execution_count": null,
      "outputs": []
    },
    {
      "cell_type": "code",
      "metadata": {
        "id": "XlvMnB0seQWz"
      },
      "source": [
        "vis.plot_transformed_image(\"test_images/London1937.png\", render_factor=45, compare=True)"
      ],
      "execution_count": null,
      "outputs": []
    },
    {
      "cell_type": "code",
      "metadata": {
        "id": "na-xTqfxeQWz"
      },
      "source": [
        "vis.plot_transformed_image(\"test_images/Harlem1932.jpg\", render_factor=37, compare=True)"
      ],
      "execution_count": null,
      "outputs": []
    },
    {
      "cell_type": "code",
      "metadata": {
        "id": "xQD9-0K4eQWz"
      },
      "source": [
        "vis.plot_transformed_image(\"test_images/OregonTrail1870s.jpg\", render_factor=40, compare=True)"
      ],
      "execution_count": null,
      "outputs": []
    },
    {
      "cell_type": "code",
      "metadata": {
        "id": "BHgywh3BeQW0"
      },
      "source": [
        "vis.plot_transformed_image(\"test_images/EasterNyc1911.jpg\", render_factor=19, compare=True)"
      ],
      "execution_count": null,
      "outputs": []
    },
    {
      "cell_type": "code",
      "metadata": {
        "id": "gbopqSOUeQW0"
      },
      "source": [
        "vis.plot_transformed_image(\"test_images/1899NycBlizzard.jpg\", render_factor=45, compare=True)"
      ],
      "execution_count": null,
      "outputs": []
    },
    {
      "cell_type": "code",
      "metadata": {
        "id": "W10h1zpReQW0"
      },
      "source": [
        "vis.plot_transformed_image(\"test_images/Edinburgh1920s.jpg\", render_factor=17, compare=True)"
      ],
      "execution_count": null,
      "outputs": []
    },
    {
      "cell_type": "code",
      "metadata": {
        "id": "NNyKp0rCeQW0"
      },
      "source": [
        "vis.plot_transformed_image(\"test_images/1890sShoeShopOhio.jpg\", render_factor=46, compare=True)"
      ],
      "execution_count": null,
      "outputs": []
    },
    {
      "cell_type": "code",
      "metadata": {
        "id": "nd9saSO5eQW0"
      },
      "source": [
        "vis.plot_transformed_image(\"test_images/1890sTouristsEgypt.png\", render_factor=40, compare=True)"
      ],
      "execution_count": null,
      "outputs": []
    },
    {
      "cell_type": "code",
      "metadata": {
        "id": "sp3-jOiOeQW0"
      },
      "source": [
        "vis.plot_transformed_image(\"test_images/1938Reading.jpg\", render_factor=19, compare=True)"
      ],
      "execution_count": null,
      "outputs": []
    },
    {
      "cell_type": "code",
      "metadata": {
        "id": "pOAQrLhfeQW1"
      },
      "source": [
        "vis.plot_transformed_image(\"test_images/1850Geography.jpg\", compare=True)"
      ],
      "execution_count": null,
      "outputs": []
    },
    {
      "cell_type": "code",
      "metadata": {
        "id": "zj4vwl4yeQW1"
      },
      "source": [
        "vis.plot_transformed_image(\"test_images/1901Electrophone.jpg\", render_factor=10, compare=True)"
      ],
      "execution_count": null,
      "outputs": []
    },
    {
      "cell_type": "code",
      "metadata": {
        "id": "Us3G2cLheQW1"
      },
      "source": [
        "for i in range(8, 47):\n",
        "    vis.plot_transformed_image(\"test_images/1901Electrophone.jpg\", render_factor=i, compare=True)"
      ],
      "execution_count": null,
      "outputs": []
    },
    {
      "cell_type": "code",
      "metadata": {
        "id": "RlAclBVmeQW2"
      },
      "source": [
        "vis.plot_transformed_image(\"test_images/Texas1938Woman.png\", render_factor=38, compare=True)"
      ],
      "execution_count": null,
      "outputs": []
    },
    {
      "cell_type": "code",
      "metadata": {
        "id": "XduNkkYmeQW2"
      },
      "source": [
        "vis.plot_transformed_image(\"test_images/MaioreWoman1895NZ.jpg\", compare=True)"
      ],
      "execution_count": null,
      "outputs": []
    },
    {
      "cell_type": "code",
      "metadata": {
        "id": "X1YucNCdeQW2"
      },
      "source": [
        "vis.plot_transformed_image(\"test_images/WestVirginiaHouse.jpg\", compare=True)"
      ],
      "execution_count": null,
      "outputs": []
    },
    {
      "cell_type": "code",
      "metadata": {
        "id": "WT8nnMHEeQW2"
      },
      "source": [
        "vis.plot_transformed_image(\"test_images/1920sGuadalope.jpg\", compare=True)"
      ],
      "execution_count": null,
      "outputs": []
    },
    {
      "cell_type": "code",
      "metadata": {
        "id": "4elUk0TQeQW2"
      },
      "source": [
        "vis.plot_transformed_image(\"test_images/1909Chicago.jpg\", render_factor=45, compare=True)"
      ],
      "execution_count": null,
      "outputs": []
    },
    {
      "cell_type": "code",
      "metadata": {
        "id": "QS7UIl2FeQW3"
      },
      "source": [
        "vis.plot_transformed_image(\"test_images/1920sFarmKid.jpg\", compare=True)"
      ],
      "execution_count": null,
      "outputs": []
    },
    {
      "cell_type": "code",
      "metadata": {
        "id": "p7pRhzC2eQW3"
      },
      "source": [
        "vis.plot_transformed_image(\"test_images/ParisLate1800s.jpg\", render_factor=45, compare=True)"
      ],
      "execution_count": null,
      "outputs": []
    },
    {
      "cell_type": "code",
      "metadata": {
        "id": "tbkOP5qJeQW3"
      },
      "source": [
        "vis.plot_transformed_image(\"test_images/1900sDaytonaBeach.png\", render_factor=23, compare=True)"
      ],
      "execution_count": null,
      "outputs": []
    },
    {
      "cell_type": "code",
      "metadata": {
        "id": "_ISx9GIOeQW4"
      },
      "source": [
        "vis.plot_transformed_image(\"test_images/1930sGeorgia.jpg\", compare=True)"
      ],
      "execution_count": null,
      "outputs": []
    },
    {
      "cell_type": "code",
      "metadata": {
        "id": "PvWNMNj1eQW4"
      },
      "source": [
        "vis.plot_transformed_image(\"test_images/NorwegianBride1920s.jpg\", render_factor=30, compare=True)"
      ],
      "execution_count": null,
      "outputs": []
    },
    {
      "cell_type": "code",
      "metadata": {
        "id": "VgVYwXX9eQW4"
      },
      "source": [
        "vis.plot_transformed_image(\"test_images/Depression.jpg\", compare=True)"
      ],
      "execution_count": null,
      "outputs": []
    },
    {
      "cell_type": "code",
      "metadata": {
        "id": "GOIn_hfHeQW4"
      },
      "source": [
        "vis.plot_transformed_image(\"test_images/1888Slum.jpg\", render_factor=30, compare=True)"
      ],
      "execution_count": null,
      "outputs": []
    },
    {
      "cell_type": "code",
      "metadata": {
        "id": "5HBdVuZ7eQW5"
      },
      "source": [
        "vis.plot_transformed_image(\"test_images/LivingRoom1920Sweden.jpg\", render_factor=45, compare=True)"
      ],
      "execution_count": null,
      "outputs": []
    },
    {
      "cell_type": "code",
      "metadata": {
        "id": "fVtrkfuDeQW6"
      },
      "source": [
        "vis.plot_transformed_image(\"test_images/1896NewsBoyGirl.jpg\", compare=True)"
      ],
      "execution_count": null,
      "outputs": []
    },
    {
      "cell_type": "code",
      "metadata": {
        "id": "F1eTf6y1eQW6"
      },
      "source": [
        "vis.plot_transformed_image(\"test_images/PetDucks1927.jpg\", compare=True)"
      ],
      "execution_count": null,
      "outputs": []
    },
    {
      "cell_type": "code",
      "metadata": {
        "id": "qH38JbMYeQW6"
      },
      "source": [
        "vis.plot_transformed_image(\"test_images/1899SodaFountain.jpg\", render_factor=46, compare=True)"
      ],
      "execution_count": null,
      "outputs": []
    },
    {
      "cell_type": "code",
      "metadata": {
        "id": "0evSCRXXeQW7"
      },
      "source": [
        "vis.plot_transformed_image(\"test_images/TimesSquare1955.jpg\", compare=True)"
      ],
      "execution_count": null,
      "outputs": []
    },
    {
      "cell_type": "code",
      "metadata": {
        "id": "Oha0bbz-eQW8"
      },
      "source": [
        "vis.plot_transformed_image(\"test_images/PuppyGify.jpg\", compare=True)"
      ],
      "execution_count": null,
      "outputs": []
    },
    {
      "cell_type": "code",
      "metadata": {
        "id": "IXNzgVYoeQW8"
      },
      "source": [
        "vis.plot_transformed_image(\"test_images/1890CliffHouseSF.jpg\", render_factor=30, compare=True)"
      ],
      "execution_count": null,
      "outputs": []
    },
    {
      "cell_type": "code",
      "metadata": {
        "id": "DkUCnkMSeQW8"
      },
      "source": [
        "vis.plot_transformed_image(\"test_images/1908FamilyPhoto.jpg\", render_factor=45, compare=True)"
      ],
      "execution_count": null,
      "outputs": []
    },
    {
      "cell_type": "code",
      "metadata": {
        "id": "W6ZNZTroeQW8"
      },
      "source": [
        "vis.plot_transformed_image(\"test_images/1900sSaloon.jpg\", render_factor=43, compare=True)"
      ],
      "execution_count": null,
      "outputs": []
    },
    {
      "cell_type": "code",
      "metadata": {
        "id": "PfbRhLDFeQW8"
      },
      "source": [
        "vis.plot_transformed_image(\"test_images/1890BostonHospital.jpg\", render_factor=40, compare=True)"
      ],
      "execution_count": null,
      "outputs": []
    },
    {
      "cell_type": "code",
      "metadata": {
        "id": "N5riAWVseQW9"
      },
      "source": [
        "vis.plot_transformed_image(\"test_images/1870Girl.jpg\", compare=True)"
      ],
      "execution_count": null,
      "outputs": []
    },
    {
      "cell_type": "code",
      "metadata": {
        "id": "SCzzYwoQeQX_"
      },
      "source": [
        "vis.plot_transformed_image(\"test_images/AustriaHungaryWomen1890s.jpg\", compare=True)"
      ],
      "execution_count": null,
      "outputs": []
    },
    {
      "cell_type": "code",
      "metadata": {
        "id": "QlNAFqBpeQYA"
      },
      "source": [
        "vis.plot_transformed_image(\"test_images/Shack.jpg\",render_factor=42, compare=True)"
      ],
      "execution_count": null,
      "outputs": []
    },
    {
      "cell_type": "code",
      "metadata": {
        "id": "mWMQnjYleQYW"
      },
      "source": [
        "vis.plot_transformed_image(\"test_images/Apsaroke1908.png\", render_factor=35, compare=True)"
      ],
      "execution_count": null,
      "outputs": []
    },
    {
      "cell_type": "code",
      "metadata": {
        "id": "M3d-9hjNeQYX"
      },
      "source": [
        "vis.plot_transformed_image(\"test_images/1948CarsGrandma.jpg\", compare=True)"
      ],
      "execution_count": null,
      "outputs": []
    },
    {
      "cell_type": "code",
      "metadata": {
        "id": "Mx0QesjyeQYX"
      },
      "source": [
        "vis.plot_transformed_image(\"test_images/PlanesManhattan1931.jpg\", compare=True)"
      ],
      "execution_count": null,
      "outputs": []
    },
    {
      "cell_type": "code",
      "metadata": {
        "id": "2-ysPElyeQZN"
      },
      "source": [
        "vis.plot_transformed_image(\"test_images/WorriedKid1940sNyc.jpg\", compare=True)"
      ],
      "execution_count": null,
      "outputs": []
    },
    {
      "cell_type": "code",
      "metadata": {
        "id": "TFEcu3JseQZO"
      },
      "source": [
        "vis.plot_transformed_image(\"test_images/1920sFamilyPhoto.jpg\", compare=True)"
      ],
      "execution_count": null,
      "outputs": []
    },
    {
      "cell_type": "code",
      "metadata": {
        "id": "IrCkIH6NeQZQ"
      },
      "source": [
        "vis.plot_transformed_image(\"test_images/CatWash1931.jpg\", compare=True)"
      ],
      "execution_count": null,
      "outputs": []
    },
    {
      "cell_type": "code",
      "metadata": {
        "id": "LUiN82SeeQZQ"
      },
      "source": [
        "vis.plot_transformed_image(\"test_images/1940sBeerRiver.jpg\", compare=True)"
      ],
      "execution_count": null,
      "outputs": []
    },
    {
      "cell_type": "code",
      "metadata": {
        "id": "V1fsmIVeeQZR"
      },
      "source": [
        "vis.plot_transformed_image(\"test_images/VictorianLivingRoom.jpg\", render_factor=45, compare=True)"
      ],
      "execution_count": null,
      "outputs": []
    },
    {
      "cell_type": "code",
      "metadata": {
        "id": "BZLrGJYqeQZR"
      },
      "source": [
        "vis.plot_transformed_image(\"test_images/1897BlindmansBluff.jpg\", compare=True)"
      ],
      "execution_count": null,
      "outputs": []
    },
    {
      "cell_type": "code",
      "metadata": {
        "id": "M4aMpsgaeQZR"
      },
      "source": [
        "vis.plot_transformed_image(\"test_images/1874Mexico.png\", compare=True)"
      ],
      "execution_count": null,
      "outputs": []
    },
    {
      "cell_type": "code",
      "metadata": {
        "id": "Q6V2W2_deQZR"
      },
      "source": [
        "vis.plot_transformed_image(\"test_images/MadisonSquare1900.jpg\", render_factor=46, compare=True)"
      ],
      "execution_count": null,
      "outputs": []
    },
    {
      "cell_type": "code",
      "metadata": {
        "id": "DKim6gxMeQZS"
      },
      "source": [
        "vis.plot_transformed_image(\"test_images/1867MusicianConstantinople.jpg\", compare=True)"
      ],
      "execution_count": null,
      "outputs": []
    },
    {
      "cell_type": "code",
      "metadata": {
        "id": "V-WffSKueQZS"
      },
      "source": [
        "vis.plot_transformed_image(\"test_images/1925Girl.jpg\", render_factor=25, compare=True)"
      ],
      "execution_count": null,
      "outputs": []
    },
    {
      "cell_type": "code",
      "metadata": {
        "id": "jZbFQ2YKeQZS"
      },
      "source": [
        "vis.plot_transformed_image(\"test_images/1907Cowboys.jpg\", render_factor=28, compare=True)"
      ],
      "execution_count": null,
      "outputs": []
    },
    {
      "cell_type": "code",
      "metadata": {
        "id": "PcVlZulseQZS"
      },
      "source": [
        "vis.plot_transformed_image(\"test_images/WWIIPeeps.jpg\", render_factor=37, compare=True)"
      ],
      "execution_count": null,
      "outputs": []
    },
    {
      "cell_type": "code",
      "metadata": {
        "id": "kOSfukeGeQZS"
      },
      "source": [
        "vis.plot_transformed_image(\"test_images/BabyBigBoots.jpg\", render_factor=40, compare=True)"
      ],
      "execution_count": null,
      "outputs": []
    },
    {
      "cell_type": "code",
      "metadata": {
        "id": "gOTpcz5PeQZT"
      },
      "source": [
        "vis.plot_transformed_image(\"test_images/1895BikeMaidens.jpg\", render_factor=25, compare=True)"
      ],
      "execution_count": null,
      "outputs": []
    },
    {
      "cell_type": "code",
      "metadata": {
        "id": "grbx4RCdeQZT"
      },
      "source": [
        "vis.plot_transformed_image(\"test_images/IrishLate1800s.jpg\", render_factor=25, compare=True)"
      ],
      "execution_count": null,
      "outputs": []
    },
    {
      "cell_type": "code",
      "metadata": {
        "id": "dKroqyuueQZT"
      },
      "source": [
        "vis.plot_transformed_image(\"test_images/LibraryOfCongress1910.jpg\", render_factor=21, compare=True)"
      ],
      "execution_count": null,
      "outputs": []
    },
    {
      "cell_type": "code",
      "metadata": {
        "id": "PgYwYiq1eQZT"
      },
      "source": [
        "vis.plot_transformed_image(\"test_images/1875Olds.jpg\", render_factor=16, compare=True)"
      ],
      "execution_count": null,
      "outputs": []
    },
    {
      "cell_type": "code",
      "metadata": {
        "id": "1f-JaKk3eQZT"
      },
      "source": [
        "vis.plot_transformed_image(\"test_images/SenecaNative1908.jpg\", render_factor=30, compare=True)"
      ],
      "execution_count": null,
      "outputs": []
    },
    {
      "cell_type": "code",
      "metadata": {
        "id": "YpgcqCD-eQZU"
      },
      "source": [
        "vis.plot_transformed_image(\"test_images/WWIHospital.jpg\", render_factor=40, compare=True)"
      ],
      "execution_count": null,
      "outputs": []
    },
    {
      "cell_type": "code",
      "metadata": {
        "id": "ktRqto8_eQZU"
      },
      "source": [
        "vis.plot_transformed_image(\"test_images/1892WaterLillies.jpg\", render_factor=45, compare=True)"
      ],
      "execution_count": null,
      "outputs": []
    },
    {
      "cell_type": "code",
      "metadata": {
        "id": "uYuocACjeQZV"
      },
      "source": [
        "vis.plot_transformed_image(\"test_images/GreekImmigrants1905.jpg\", render_factor=25, compare=True)"
      ],
      "execution_count": null,
      "outputs": []
    },
    {
      "cell_type": "code",
      "metadata": {
        "id": "u4n6jz9QeQZV"
      },
      "source": [
        "vis.plot_transformed_image(\"test_images/FatMensShop.jpg\", render_factor=21, compare=True)"
      ],
      "execution_count": null,
      "outputs": []
    },
    {
      "cell_type": "code",
      "metadata": {
        "id": "wrneWg5xeQZV"
      },
      "source": [
        "vis.plot_transformed_image(\"test_images/KidCage1930s.png\", compare=True)"
      ],
      "execution_count": null,
      "outputs": []
    },
    {
      "cell_type": "code",
      "metadata": {
        "id": "FM3XwLZseQZW"
      },
      "source": [
        "vis.plot_transformed_image(\"test_images/FarmWomen1895.jpg\", compare=True)"
      ],
      "execution_count": null,
      "outputs": []
    },
    {
      "cell_type": "code",
      "metadata": {
        "id": "eFdGAEaLeQZW"
      },
      "source": [
        "vis.plot_transformed_image(\"test_images/NewZealand1860s.jpg\", compare=True)"
      ],
      "execution_count": null,
      "outputs": []
    },
    {
      "cell_type": "code",
      "metadata": {
        "id": "hbupKMLmeQZW"
      },
      "source": [
        "vis.plot_transformed_image(\"test_images/JerseyShore1905.jpg\", render_factor=45, compare=True)"
      ],
      "execution_count": null,
      "outputs": []
    },
    {
      "cell_type": "code",
      "metadata": {
        "id": "anZYDbjNeQZW"
      },
      "source": [
        "vis.plot_transformed_image(\"test_images/LondonKidsEarly1900s.jpg\", compare=True)"
      ],
      "execution_count": null,
      "outputs": []
    },
    {
      "cell_type": "code",
      "metadata": {
        "id": "8a9NDvvzeQZW"
      },
      "source": [
        "vis.plot_transformed_image(\"test_images/NYStreetClean1906.jpg\", compare=True)"
      ],
      "execution_count": null,
      "outputs": []
    },
    {
      "cell_type": "code",
      "metadata": {
        "id": "VpFQFhwXeQZW"
      },
      "source": [
        "vis.plot_transformed_image(\"test_images/Boston1937.jpg\", compare=True)"
      ],
      "execution_count": null,
      "outputs": []
    },
    {
      "cell_type": "code",
      "metadata": {
        "id": "d-7fpQApeQZX"
      },
      "source": [
        "vis.plot_transformed_image(\"test_images/Cork1905.jpg\", render_factor=28, compare=True)"
      ],
      "execution_count": null,
      "outputs": []
    },
    {
      "cell_type": "code",
      "metadata": {
        "id": "KqUw4AEjeQZX"
      },
      "source": [
        "vis.plot_transformed_image(\"test_images/BoxedBedEarly1900s.jpg\", compare=True)"
      ],
      "execution_count": null,
      "outputs": []
    },
    {
      "cell_type": "code",
      "metadata": {
        "id": "Ko0_udaaeQZX"
      },
      "source": [
        "vis.plot_transformed_image(\"test_images/ZoologischerGarten1898.jpg\", compare=True)"
      ],
      "execution_count": null,
      "outputs": []
    },
    {
      "cell_type": "code",
      "metadata": {
        "id": "Zent7gdfeQZY"
      },
      "source": [
        "vis.plot_transformed_image(\"test_images/EmpireState1930.jpg\", compare=True)"
      ],
      "execution_count": null,
      "outputs": []
    },
    {
      "cell_type": "code",
      "metadata": {
        "id": "FPhD27_ReQZZ"
      },
      "source": [
        "vis.plot_transformed_image(\"test_images/Agamemnon1919.jpg\", render_factor=40, compare=True)"
      ],
      "execution_count": null,
      "outputs": []
    },
    {
      "cell_type": "code",
      "metadata": {
        "id": "GPDNQ6nteQZb"
      },
      "source": [
        "vis.plot_transformed_image(\"test_images/AppalachianLoggers1901.jpg\", compare=True)"
      ],
      "execution_count": null,
      "outputs": []
    },
    {
      "cell_type": "code",
      "metadata": {
        "id": "BahHWAZoeQZb"
      },
      "source": [
        "vis.plot_transformed_image(\"test_images/WWISikhs.jpg\", compare=True)"
      ],
      "execution_count": null,
      "outputs": []
    },
    {
      "cell_type": "code",
      "metadata": {
        "id": "zeesBPVGeQZb"
      },
      "source": [
        "vis.plot_transformed_image(\"test_images/MementoMori1865.jpg\", compare=True)"
      ],
      "execution_count": null,
      "outputs": []
    },
    {
      "cell_type": "code",
      "metadata": {
        "id": "UbhiItBQeQZc"
      },
      "source": [
        "vis.plot_transformed_image(\"test_images/RepBrennanRadio1922.jpg\", render_factor=43, compare=True)"
      ],
      "execution_count": null,
      "outputs": []
    },
    {
      "cell_type": "code",
      "metadata": {
        "id": "zQvy7KzfeQZc"
      },
      "source": [
        "vis.plot_transformed_image(\"test_images/Late1800sNative.jpg\", render_factor=20, compare=True)"
      ],
      "execution_count": null,
      "outputs": []
    },
    {
      "cell_type": "code",
      "metadata": {
        "id": "3knQv_nUeQZc"
      },
      "source": [
        "vis.plot_transformed_image(\"test_images/GasPrices1939.jpg\", render_factor=30, compare=True)"
      ],
      "execution_count": null,
      "outputs": []
    },
    {
      "cell_type": "code",
      "metadata": {
        "id": "ZCRZBTs_eQZc"
      },
      "source": [
        "vis.plot_transformed_image(\"test_images/1933RockefellerCenter.jpg\", compare=True)"
      ],
      "execution_count": null,
      "outputs": []
    },
    {
      "cell_type": "code",
      "metadata": {
        "id": "eeo19fvDeQZc"
      },
      "source": [
        "vis.plot_transformed_image(\"test_images/Scotland1919.jpg\", compare=True)"
      ],
      "execution_count": null,
      "outputs": []
    },
    {
      "cell_type": "code",
      "metadata": {
        "id": "jWEGXwLLeQZd"
      },
      "source": [
        "vis.plot_transformed_image(\"test_images/1920CobblersShopLondon.jpg\", compare=True)"
      ],
      "execution_count": null,
      "outputs": []
    },
    {
      "cell_type": "code",
      "metadata": {
        "id": "PTrW6fV1eQZd"
      },
      "source": [
        "vis.plot_transformed_image(\"test_images/1909ParisFirstFemaleTaxisDriver.jpg\", compare=True)"
      ],
      "execution_count": null,
      "outputs": []
    },
    {
      "cell_type": "code",
      "metadata": {
        "id": "ctUACMcYeQZd"
      },
      "source": [
        "vis.plot_transformed_image(\"test_images/HoovervilleSeattle1932.jpg\", compare=True)"
      ],
      "execution_count": null,
      "outputs": []
    },
    {
      "cell_type": "code",
      "metadata": {
        "id": "IAFh-qSUeQZd"
      },
      "source": [
        "vis.plot_transformed_image(\"test_images/ElephantLondon1934.png\", compare=True)"
      ],
      "execution_count": null,
      "outputs": []
    },
    {
      "cell_type": "code",
      "metadata": {
        "id": "doUgljGJeQZd"
      },
      "source": [
        "vis.plot_transformed_image(\"test_images/Jane_Addams.jpg\", compare=True)"
      ],
      "execution_count": null,
      "outputs": []
    },
    {
      "cell_type": "code",
      "metadata": {
        "id": "_t8l-FkaeQZe"
      },
      "source": [
        "vis.plot_transformed_image(\"test_images/AnselAdamsAdobe.jpg\", compare=True)"
      ],
      "execution_count": null,
      "outputs": []
    },
    {
      "cell_type": "code",
      "metadata": {
        "id": "IJYuG2fCeQZe"
      },
      "source": [
        "vis.plot_transformed_image(\"test_images/CricketLondon1930.jpg\", render_factor=45, compare=True)"
      ],
      "execution_count": null,
      "outputs": []
    },
    {
      "cell_type": "code",
      "metadata": {
        "id": "pAUAEv6ZeQZe"
      },
      "source": [
        "vis.plot_transformed_image(\"test_images/Donegal1907Yarn.jpg\", render_factor=32, compare=True)"
      ],
      "execution_count": null,
      "outputs": []
    },
    {
      "cell_type": "code",
      "metadata": {
        "id": "Jtc44U_LeQZe"
      },
      "source": [
        "vis.plot_transformed_image(\"test_images/AnselAdamsChurch.jpg\", compare=True)"
      ],
      "execution_count": null,
      "outputs": []
    },
    {
      "cell_type": "code",
      "metadata": {
        "id": "t4qENEA5eQZe"
      },
      "source": [
        "vis.plot_transformed_image(\"test_images/BreadDelivery1920sIreland.jpg\", render_factor=20, compare=True)"
      ],
      "execution_count": null,
      "outputs": []
    },
    {
      "cell_type": "code",
      "metadata": {
        "id": "4OBvHKM9eQZg"
      },
      "source": [
        "vis.plot_transformed_image(\"test_images/BritishTeaBombay1890s.png\", compare=True)"
      ],
      "execution_count": null,
      "outputs": []
    },
    {
      "cell_type": "code",
      "metadata": {
        "id": "-BIQ-3KPeQZg"
      },
      "source": [
        "vis.plot_transformed_image(\"test_images/CafeParis1928.jpg\", render_factor=35, compare=True)"
      ],
      "execution_count": null,
      "outputs": []
    },
    {
      "cell_type": "code",
      "metadata": {
        "id": "Wl2Z1XdheQZh"
      },
      "source": [
        "vis.plot_transformed_image(\"test_images/BigManTavern1908NYC.jpg\", compare=True)"
      ],
      "execution_count": null,
      "outputs": []
    },
    {
      "cell_type": "code",
      "metadata": {
        "id": "g_Rt9slxeQZh"
      },
      "source": [
        "vis.plot_transformed_image(\"test_images/Cars1890sIreland.jpg\", compare=True)"
      ],
      "execution_count": null,
      "outputs": []
    },
    {
      "cell_type": "code",
      "metadata": {
        "id": "1Ybw-vLmeQZh"
      },
      "source": [
        "vis.plot_transformed_image(\"test_images/GalwayIreland1902.jpg\", render_factor=35, compare=True)"
      ],
      "execution_count": null,
      "outputs": []
    },
    {
      "cell_type": "code",
      "metadata": {
        "id": "eDnhbE-teQZi"
      },
      "source": [
        "vis.plot_transformed_image(\"test_images/HomeIreland1924.jpg\", render_factor=40, compare=True)"
      ],
      "execution_count": null,
      "outputs": []
    },
    {
      "cell_type": "code",
      "metadata": {
        "id": "etlH2d7eeQZi"
      },
      "source": [
        "vis.plot_transformed_image(\"test_images/HydeParkLondon1920s.jpg\", render_factor=30, compare=True)"
      ],
      "execution_count": null,
      "outputs": []
    },
    {
      "cell_type": "code",
      "metadata": {
        "id": "-I4tcuHAeQZi"
      },
      "source": [
        "vis.plot_transformed_image(\"test_images/1929LondonOverFleetSt.jpg\", render_factor=25, compare=True)"
      ],
      "execution_count": null,
      "outputs": []
    },
    {
      "cell_type": "code",
      "metadata": {
        "id": "df_WM3OeeQZj"
      },
      "source": [
        "vis.plot_transformed_image(\"test_images/AccordianKid1900Paris.jpg\", compare=True)"
      ],
      "execution_count": null,
      "outputs": []
    },
    {
      "cell_type": "code",
      "metadata": {
        "id": "8L4WkiMIeQZj"
      },
      "source": [
        "vis.plot_transformed_image(\"test_images/AnselAdamsBuildings.jpg\", render_factor=45, compare=True)"
      ],
      "execution_count": null,
      "outputs": []
    },
    {
      "cell_type": "code",
      "metadata": {
        "id": "eOxcrvKVeQZj"
      },
      "source": [
        "vis.plot_transformed_image(\"test_images/AthleticClubParis1913.jpg\", render_factor=42, compare=True)"
      ],
      "execution_count": null,
      "outputs": []
    },
    {
      "cell_type": "code",
      "metadata": {
        "id": "mc8GIhRWeQZj"
      },
      "source": [
        "vis.plot_transformed_image(\"test_images/BombedLibraryLondon1940.jpg\", compare=True)"
      ],
      "execution_count": null,
      "outputs": []
    },
    {
      "cell_type": "code",
      "metadata": {
        "id": "0dTiglbmeQZj"
      },
      "source": [
        "vis.plot_transformed_image(\"test_images/Boston1937.jpg\", render_factor=30, compare=True)"
      ],
      "execution_count": null,
      "outputs": []
    },
    {
      "cell_type": "code",
      "metadata": {
        "id": "1Qxlaw5JeQZk"
      },
      "source": [
        "vis.plot_transformed_image(\"test_images/BoulevardDuTemple1838.jpg\", render_factor=25, compare=True)"
      ],
      "execution_count": null,
      "outputs": []
    },
    {
      "cell_type": "code",
      "metadata": {
        "id": "5NHXFr22eQZk"
      },
      "source": [
        "vis.plot_transformed_image(\"test_images/BumperCarsParis1930.jpg\", render_factor=25, compare=True)"
      ],
      "execution_count": null,
      "outputs": []
    },
    {
      "cell_type": "code",
      "metadata": {
        "id": "mzbtVpKEeQZk"
      },
      "source": [
        "vis.plot_transformed_image(\"test_images/CafeTerrace1925Paris.jpg\", render_factor=24, compare=True)"
      ],
      "execution_count": null,
      "outputs": []
    },
    {
      "cell_type": "code",
      "metadata": {
        "id": "FxGe4MN1eQZk"
      },
      "source": [
        "vis.plot_transformed_image(\"test_images/CoalDeliveryParis1915.jpg\", render_factor=37, compare=True)"
      ],
      "execution_count": null,
      "outputs": []
    },
    {
      "cell_type": "code",
      "metadata": {
        "id": "FlgsUT0teQZn"
      },
      "source": [
        "vis.plot_transformed_image(\"test_images/CorkKids1910.jpg\", render_factor=32, compare=True)"
      ],
      "execution_count": null,
      "outputs": []
    },
    {
      "cell_type": "code",
      "metadata": {
        "id": "fS8z8HTZeQZn"
      },
      "source": [
        "vis.plot_transformed_image(\"test_images/DeepSeaDiver1915.png\", render_factor=16, compare=True)"
      ],
      "execution_count": null,
      "outputs": []
    },
    {
      "cell_type": "code",
      "metadata": {
        "id": "GR-7245LeQZn"
      },
      "source": [
        "vis.plot_transformed_image(\"test_images/EastEndLondonStreetKids1901.jpg\", compare=True)"
      ],
      "execution_count": null,
      "outputs": []
    },
    {
      "cell_type": "code",
      "metadata": {
        "id": "S8yDJOtReQZo"
      },
      "source": [
        "vis.plot_transformed_image(\"test_images/FreightTrainTeens1934.jpg\", compare=True)"
      ],
      "execution_count": null,
      "outputs": []
    },
    {
      "cell_type": "code",
      "metadata": {
        "id": "Z74xTh_beQZo"
      },
      "source": [
        "vis.plot_transformed_image(\"test_images/HarrodsLondon1920.jpg\", render_factor=45, compare=True)"
      ],
      "execution_count": null,
      "outputs": []
    },
    {
      "cell_type": "code",
      "metadata": {
        "id": "2-StAy-TeQZo"
      },
      "source": [
        "vis.plot_transformed_image(\"test_images/HerbSeller1899Paris.jpg\", render_factor=17, compare=True)"
      ],
      "execution_count": null,
      "outputs": []
    },
    {
      "cell_type": "code",
      "metadata": {
        "id": "cy7XZYtweQZo"
      },
      "source": [
        "vis.plot_transformed_image(\"test_images/CalcuttaPoliceman1920.jpg\", render_factor=20, compare=True)"
      ],
      "execution_count": null,
      "outputs": []
    },
    {
      "cell_type": "code",
      "metadata": {
        "id": "j8HxKHZreQZp"
      },
      "source": [
        "vis.plot_transformed_image(\"test_images/ElectricScooter1915.jpeg\", render_factor=20, compare=True)"
      ],
      "execution_count": null,
      "outputs": []
    },
    {
      "cell_type": "code",
      "metadata": {
        "id": "a4ubWxj_eQZp"
      },
      "source": [
        "vis.plot_transformed_image(\"test_images/GreatGrandparentsIrelandEarly1900s.jpg\", compare=True)"
      ],
      "execution_count": null,
      "outputs": []
    },
    {
      "cell_type": "code",
      "metadata": {
        "id": "aXy3Qf2oeQZq"
      },
      "source": [
        "vis.plot_transformed_image(\"test_images/HalloweenEarly1900s.jpg\", render_factor=11, compare=True)"
      ],
      "execution_count": null,
      "outputs": []
    },
    {
      "cell_type": "code",
      "metadata": {
        "id": "NnIQwSX5eQZr"
      },
      "source": [
        "vis.plot_transformed_image(\"test_images/IceManLondon1919.jpg\", compare=True)"
      ],
      "execution_count": null,
      "outputs": []
    },
    {
      "cell_type": "code",
      "metadata": {
        "id": "WdlnPSueeQZr"
      },
      "source": [
        "vis.plot_transformed_image(\"test_images/LeBonMarcheParis1875.jpg\", compare=True)"
      ],
      "execution_count": null,
      "outputs": []
    },
    {
      "cell_type": "code",
      "metadata": {
        "id": "Mnk3vGBmeQZr"
      },
      "source": [
        "vis.plot_transformed_image(\"test_images/LittleAirplane1934.jpg\", render_factor=35, compare=True)"
      ],
      "execution_count": null,
      "outputs": []
    },
    {
      "cell_type": "code",
      "metadata": {
        "id": "8Wgi7OmAeQZr"
      },
      "source": [
        "vis.plot_transformed_image(\"test_images/RoyalUniversityMedStudent1900Ireland.jpg\", render_factor=45, compare=True)"
      ],
      "execution_count": null,
      "outputs": []
    },
    {
      "cell_type": "code",
      "metadata": {
        "id": "eRUbsLJGeQZs"
      },
      "source": [
        "vis.plot_transformed_image(\"test_images/LewisTomalinLondon1895.png\", render_factor=25, compare=True)"
      ],
      "execution_count": null,
      "outputs": []
    },
    {
      "cell_type": "code",
      "metadata": {
        "id": "epJs3gSteQZs"
      },
      "source": [
        "vis.plot_transformed_image(\"test_images/SunHelmetsLondon1933.jpg\", render_factor=40, compare=True)"
      ],
      "execution_count": null,
      "outputs": []
    },
    {
      "cell_type": "code",
      "metadata": {
        "id": "Wkr6VNfseQZs"
      },
      "source": [
        "vis.plot_transformed_image(\"test_images/Killarney1910.jpg\", render_factor=45, compare=True)"
      ],
      "execution_count": null,
      "outputs": []
    },
    {
      "cell_type": "code",
      "metadata": {
        "id": "yoWNonePeQZs"
      },
      "source": [
        "vis.plot_transformed_image(\"test_images/LondonSheep1920s.png\", compare=True)"
      ],
      "execution_count": null,
      "outputs": []
    },
    {
      "cell_type": "code",
      "metadata": {
        "id": "SE5zdY1VeQZs"
      },
      "source": [
        "vis.plot_transformed_image(\"test_images/PostOfficeVermont1914.png\", compare=True)"
      ],
      "execution_count": null,
      "outputs": []
    },
    {
      "cell_type": "code",
      "metadata": {
        "id": "5puN8uGHeQZt"
      },
      "source": [
        "vis.plot_transformed_image(\"test_images/ServantsBessboroughHouse1908Ireland.jpg\", compare=True)"
      ],
      "execution_count": null,
      "outputs": []
    },
    {
      "cell_type": "code",
      "metadata": {
        "id": "kPu2FE10eQZu"
      },
      "source": [
        "vis.plot_transformed_image(\"test_images/WaterfordIreland1909.jpg\", render_factor=35, compare=True)"
      ],
      "execution_count": null,
      "outputs": []
    },
    {
      "cell_type": "code",
      "metadata": {
        "id": "di7WbRkzeQZu"
      },
      "source": [
        "vis.plot_transformed_image(\"test_images/Lisbon1919.jpg\", compare=True)"
      ],
      "execution_count": null,
      "outputs": []
    },
    {
      "cell_type": "code",
      "metadata": {
        "id": "4-dqyACQeQZv"
      },
      "source": [
        "vis.plot_transformed_image(\"test_images/London1918WartimeClothesManufacture.jpg\", render_factor=45, compare=True)"
      ],
      "execution_count": null,
      "outputs": []
    },
    {
      "cell_type": "code",
      "metadata": {
        "id": "4sSghkoAeQZz"
      },
      "source": [
        "vis.plot_transformed_image(\"test_images/LondonHeatWave1935.png\", compare=True)"
      ],
      "execution_count": null,
      "outputs": []
    },
    {
      "cell_type": "code",
      "metadata": {
        "id": "IO8eUM1WeQZ0"
      },
      "source": [
        "vis.plot_transformed_image(\"test_images/LondonsSmallestShop1900.jpg\", compare=True)"
      ],
      "execution_count": null,
      "outputs": []
    },
    {
      "cell_type": "code",
      "metadata": {
        "id": "uYLMk7KqeQZ0"
      },
      "source": [
        "vis.plot_transformed_image(\"test_images/MetropolitanDistrictRailway1869London.jpg\", compare=True)"
      ],
      "execution_count": null,
      "outputs": []
    },
    {
      "cell_type": "code",
      "metadata": {
        "id": "wlctplLMeQZ0"
      },
      "source": [
        "vis.plot_transformed_image(\"test_images/NativeWoman1926.jpg\", render_factor=21, compare=True)"
      ],
      "execution_count": null,
      "outputs": []
    },
    {
      "cell_type": "code",
      "metadata": {
        "id": "qhbZjzXieQZ1"
      },
      "source": [
        "vis.plot_transformed_image(\"test_images/PaddysMarketCork1900s.jpg\", compare=True)"
      ],
      "execution_count": null,
      "outputs": []
    },
    {
      "cell_type": "code",
      "metadata": {
        "id": "eoD1L5wreQZ1"
      },
      "source": [
        "vis.plot_transformed_image(\"test_images/Paris1920Cart.jpg\", compare=True)"
      ],
      "execution_count": null,
      "outputs": []
    },
    {
      "cell_type": "code",
      "metadata": {
        "id": "jwOOpsC6eQZ1"
      },
      "source": [
        "vis.plot_transformed_image(\"test_images/ParisLadies1910.jpg\", render_factor=20, compare=True)"
      ],
      "execution_count": null,
      "outputs": []
    },
    {
      "cell_type": "code",
      "metadata": {
        "id": "1hcwpE6feQZ1"
      },
      "source": [
        "vis.plot_transformed_image(\"test_images/ParisLadies1930s.jpg\", compare=True)"
      ],
      "execution_count": null,
      "outputs": []
    },
    {
      "cell_type": "code",
      "metadata": {
        "id": "XpmpyN1peQZ1"
      },
      "source": [
        "vis.plot_transformed_image(\"test_images/Sphinx.jpeg\", compare=True)"
      ],
      "execution_count": null,
      "outputs": []
    },
    {
      "cell_type": "code",
      "metadata": {
        "id": "Mg2FXMH2eQZ1"
      },
      "source": [
        "vis.plot_transformed_image(\"test_images/TheatreGroupBombay1875.jpg\", render_factor=45, compare=True)"
      ],
      "execution_count": null,
      "outputs": []
    },
    {
      "cell_type": "code",
      "metadata": {
        "id": "taPPUORLeQZ2"
      },
      "source": [
        "vis.plot_transformed_image(\"test_images/WorldsFair1900Paris.jpg\", compare=True)"
      ],
      "execution_count": null,
      "outputs": []
    },
    {
      "cell_type": "code",
      "metadata": {
        "id": "ObdcNCbGeQZ2"
      },
      "source": [
        "vis.plot_transformed_image(\"test_images/London1850Coach.jpg\", render_factor=25, compare=True)"
      ],
      "execution_count": null,
      "outputs": []
    },
    {
      "cell_type": "code",
      "metadata": {
        "id": "8J5aMk65eQZ3"
      },
      "source": [
        "vis.plot_transformed_image(\"test_images/London1900EastEndBlacksmith.jpg\", compare=True)"
      ],
      "execution_count": null,
      "outputs": []
    },
    {
      "cell_type": "code",
      "metadata": {
        "id": "n-BPOExReQZ3"
      },
      "source": [
        "vis.plot_transformed_image(\"test_images/London1930sCheetah.jpg\", render_factor=42, compare=True)"
      ],
      "execution_count": null,
      "outputs": []
    },
    {
      "cell_type": "code",
      "metadata": {
        "id": "-KPSVJGpeQZ3"
      },
      "source": [
        "vis.plot_transformed_image(\"test_images/LondonFireBrigadeMember1926.jpg\", compare=True)"
      ],
      "execution_count": null,
      "outputs": []
    },
    {
      "cell_type": "code",
      "metadata": {
        "id": "1PUG3uyLeQZ3"
      },
      "source": [
        "vis.plot_transformed_image(\"test_images/LondonGarbageTruck1910.jpg\", compare=True)"
      ],
      "execution_count": null,
      "outputs": []
    },
    {
      "cell_type": "code",
      "metadata": {
        "id": "tQs0U9ZmeQZ4"
      },
      "source": [
        "vis.plot_transformed_image(\"test_images/LondonRailwayWork1931.jpg\", render_factor=45, compare=True)"
      ],
      "execution_count": null,
      "outputs": []
    },
    {
      "cell_type": "code",
      "metadata": {
        "id": "vtcEY1lJeQZ4"
      },
      "source": [
        "vis.plot_transformed_image(\"test_images/LondonStreets1900.jpg\", compare=True)"
      ],
      "execution_count": null,
      "outputs": []
    },
    {
      "cell_type": "code",
      "metadata": {
        "id": "5WRadAnceQZ4"
      },
      "source": [
        "vis.plot_transformed_image(\"test_images/MuffinManlLondon1910.jpg\", render_factor=45, compare=True)"
      ],
      "execution_count": null,
      "outputs": []
    },
    {
      "cell_type": "code",
      "metadata": {
        "id": "4j-2khA_eQZ4"
      },
      "source": [
        "vis.plot_transformed_image(\"test_images/NativeCouple1912.jpg\", render_factor=21, compare=True)"
      ],
      "execution_count": null,
      "outputs": []
    },
    {
      "cell_type": "code",
      "metadata": {
        "id": "v9RY97D1eQZ4"
      },
      "source": [
        "vis.plot_transformed_image(\"test_images/NewspaperCivilWar1863.jpg\", compare=True)"
      ],
      "execution_count": null,
      "outputs": []
    },
    {
      "cell_type": "code",
      "metadata": {
        "id": "CB49KN5HeQZ5"
      },
      "source": [
        "vis.plot_transformed_image(\"test_images/PaddingtonStationLondon1907.jpg\", render_factor=45, compare=True)"
      ],
      "execution_count": null,
      "outputs": []
    },
    {
      "cell_type": "code",
      "metadata": {
        "id": "vj5qVWTgeQZ6"
      },
      "source": [
        "vis.plot_transformed_image(\"test_images/Paris1899StreetDig.jpg\", compare=True)"
      ],
      "execution_count": null,
      "outputs": []
    },
    {
      "cell_type": "code",
      "metadata": {
        "id": "utz-sJ-HeQZ6"
      },
      "source": [
        "vis.plot_transformed_image(\"test_images/Paris1926.jpg\", compare=True)"
      ],
      "execution_count": null,
      "outputs": []
    },
    {
      "cell_type": "code",
      "metadata": {
        "id": "jkGyCqtLeQZ7"
      },
      "source": [
        "vis.plot_transformed_image(\"test_images/ParisWomenFurs1920s.jpg\", render_factor=21, compare=True)"
      ],
      "execution_count": null,
      "outputs": []
    },
    {
      "cell_type": "code",
      "metadata": {
        "id": "5-pZLIffeQZ7"
      },
      "source": [
        "vis.plot_transformed_image(\"test_images/PeddlerParis1899.jpg\", compare=True)"
      ],
      "execution_count": null,
      "outputs": []
    },
    {
      "cell_type": "code",
      "metadata": {
        "id": "dt4GYF_3eQZ7"
      },
      "source": [
        "vis.plot_transformed_image(\"test_images/SchoolKidsConnemaraIreland1901.jpg\", compare=True)"
      ],
      "execution_count": null,
      "outputs": []
    },
    {
      "cell_type": "code",
      "metadata": {
        "id": "t__5wsAHeQZ7"
      },
      "source": [
        "vis.plot_transformed_image(\"test_images/SecondHandClothesLondonLate1800s.jpg\", render_factor=33, compare=True)"
      ],
      "execution_count": null,
      "outputs": []
    },
    {
      "cell_type": "code",
      "metadata": {
        "id": "V0XFdToweQZ7"
      },
      "source": [
        "vis.plot_transformed_image(\"test_images/SoapBoxRacerParis1920s.jpg\", render_factor=40, compare=True)"
      ],
      "execution_count": null,
      "outputs": []
    },
    {
      "cell_type": "code",
      "metadata": {
        "id": "KaK7pur6eQZ8"
      },
      "source": [
        "vis.plot_transformed_image(\"test_images/SoccerMotorcycles1923London.jpg\", compare=True)"
      ],
      "execution_count": null,
      "outputs": []
    },
    {
      "cell_type": "code",
      "metadata": {
        "id": "Nf28TdX3eQZ8"
      },
      "source": [
        "vis.plot_transformed_image(\"test_images/WalkingLibraryLondon1930.jpg\", compare=True)"
      ],
      "execution_count": null,
      "outputs": []
    },
    {
      "cell_type": "code",
      "metadata": {
        "id": "JXnmg1hseQaG"
      },
      "source": [
        "vis.plot_transformed_image(\"test_images/LondonStreetDoctor1877.png\", render_factor=38, compare=True)"
      ],
      "execution_count": null,
      "outputs": []
    },
    {
      "cell_type": "code",
      "metadata": {
        "id": "4ggRLZIMeQaH"
      },
      "source": [
        "vis.plot_transformed_image(\"test_images/jacksonville.jpg\", compare=True)"
      ],
      "execution_count": null,
      "outputs": []
    },
    {
      "cell_type": "code",
      "metadata": {
        "id": "y0aIeh7EeQaH"
      },
      "source": [
        "vis.plot_transformed_image(\"test_images/ZebraCarriageLondon1900.jpg\", compare=True)"
      ],
      "execution_count": null,
      "outputs": []
    },
    {
      "cell_type": "code",
      "metadata": {
        "id": "-mXJpNUQeQaI"
      },
      "source": [
        "vis.plot_transformed_image(\"test_images/StreetGramaphonePlayerLondon1920s.png\", compare=True)"
      ],
      "execution_count": null,
      "outputs": []
    },
    {
      "cell_type": "code",
      "metadata": {
        "id": "_U6lczpUeQaI"
      },
      "source": [
        "vis.plot_transformed_image(\"test_images/YaleBranchBarnardsExpress.jpg\", compare=True)"
      ],
      "execution_count": null,
      "outputs": []
    },
    {
      "cell_type": "code",
      "metadata": {
        "id": "nJPRTEJ8eQaI"
      },
      "source": [
        "vis.plot_transformed_image(\"test_images/SynagogueInterior.PNG\", compare=True)"
      ],
      "execution_count": null,
      "outputs": []
    },
    {
      "cell_type": "code",
      "metadata": {
        "id": "E26x46ZieQaJ"
      },
      "source": [
        "vis.plot_transformed_image(\"test_images/ArmisticeDay1918.jpg\", compare=True)"
      ],
      "execution_count": null,
      "outputs": []
    },
    {
      "cell_type": "code",
      "metadata": {
        "id": "9-Nc80ZMeQaJ"
      },
      "source": [
        "vis.plot_transformed_image(\"test_images/FlyingMachinesParis1909.jpg\", render_factor=25, compare=True)"
      ],
      "execution_count": null,
      "outputs": []
    },
    {
      "cell_type": "code",
      "metadata": {
        "id": "aV4sbQ6yeQaJ"
      },
      "source": [
        "vis.plot_transformed_image(\"test_images/GreatAunt1920.jpg\", compare=True)"
      ],
      "execution_count": null,
      "outputs": []
    },
    {
      "cell_type": "code",
      "metadata": {
        "id": "3Vi62noCeQaK"
      },
      "source": [
        "vis.plot_transformed_image(\"test_images/NewBrunswick1915.jpg\", compare=True)"
      ],
      "execution_count": null,
      "outputs": []
    },
    {
      "cell_type": "code",
      "metadata": {
        "id": "hFNxfsNpeQaK"
      },
      "source": [
        "vis.plot_transformed_image(\"test_images/ShoeMakerLate1800s.jpg\", compare=True)"
      ],
      "execution_count": null,
      "outputs": []
    },
    {
      "cell_type": "code",
      "metadata": {
        "id": "5IhUFxoweQaK"
      },
      "source": [
        "vis.plot_transformed_image(\"test_images/SpottedBull1908.jpg\", compare=True)"
      ],
      "execution_count": null,
      "outputs": []
    },
    {
      "cell_type": "code",
      "metadata": {
        "id": "ZJUjT62WeQaO"
      },
      "source": [
        "vis.plot_transformed_image(\"test_images/TouristsGermany1904.jpg\", render_factor=35, compare=True)"
      ],
      "execution_count": null,
      "outputs": []
    },
    {
      "cell_type": "code",
      "metadata": {
        "id": "lgDGs5WKeQaO"
      },
      "source": [
        "vis.plot_transformed_image(\"test_images/TunisianStudents1914.jpg\", compare=True)"
      ],
      "execution_count": null,
      "outputs": []
    },
    {
      "cell_type": "code",
      "metadata": {
        "id": "5Wn4nLRceQaO"
      },
      "source": [
        "vis.plot_transformed_image(\"test_images/Yorktown1862.jpg\", compare=True)"
      ],
      "execution_count": null,
      "outputs": []
    },
    {
      "cell_type": "code",
      "metadata": {
        "id": "fiI1QVjteQaO"
      },
      "source": [
        "vis.plot_transformed_image(\"test_images/LondonFashion1911.png\", compare=True)"
      ],
      "execution_count": null,
      "outputs": []
    },
    {
      "cell_type": "code",
      "metadata": {
        "id": "_uqyRcZyeQaP"
      },
      "source": [
        "vis.plot_transformed_image(\"test_images/1939GypsyKids.jpg\", render_factor=37, compare=True)"
      ],
      "execution_count": null,
      "outputs": []
    },
    {
      "cell_type": "code",
      "metadata": {
        "id": "Cbgv25-weQaP"
      },
      "source": [
        "vis.plot_transformed_image(\"test_images/1936OpiumShanghai.jpg\", compare=True)"
      ],
      "execution_count": null,
      "outputs": []
    },
    {
      "cell_type": "code",
      "metadata": {
        "id": "An45S_SveQaW"
      },
      "source": [
        "vis.plot_transformed_image(\"test_images/1923HollandTunnel.jpg\", compare=True)"
      ],
      "execution_count": null,
      "outputs": []
    },
    {
      "cell_type": "code",
      "metadata": {
        "id": "ZgUg7ceGeQaW"
      },
      "source": [
        "vis.plot_transformed_image(\"test_images/1939YakimaWAGirl.jpg\", compare=True)"
      ],
      "execution_count": null,
      "outputs": []
    },
    {
      "cell_type": "code",
      "metadata": {
        "id": "bIWBpz6aeQaX"
      },
      "source": [
        "vis.plot_transformed_image(\"test_images/GoldenGateConstruction.jpg\", render_factor=35, compare=True)"
      ],
      "execution_count": null,
      "outputs": []
    },
    {
      "cell_type": "code",
      "metadata": {
        "id": "SCWoKE2AeQaX"
      },
      "source": [
        "vis.plot_transformed_image(\"test_images/PostCivilWarAncestors.jpg\", compare=True)"
      ],
      "execution_count": null,
      "outputs": []
    },
    {
      "cell_type": "code",
      "metadata": {
        "id": "DBsjtyrmeQaX"
      },
      "source": [
        "vis.plot_transformed_image(\"test_images/1939SewingBike.png\", compare=True)"
      ],
      "execution_count": null,
      "outputs": []
    },
    {
      "cell_type": "code",
      "metadata": {
        "id": "-idavYAkeQaX"
      },
      "source": [
        "vis.plot_transformed_image(\"test_images/1930MaineSchoolBus.jpg\", compare=True)"
      ],
      "execution_count": null,
      "outputs": []
    },
    {
      "cell_type": "code",
      "metadata": {
        "id": "pZ_vELljeQaX"
      },
      "source": [
        "vis.plot_transformed_image(\"test_images/1913NewYorkConstruction.jpg\", compare=True)"
      ],
      "execution_count": null,
      "outputs": []
    },
    {
      "cell_type": "code",
      "metadata": {
        "id": "i3MzKXPneQaa"
      },
      "source": [
        "vis.plot_transformed_image(\"test_images/1945HiroshimaChild.jpg\", compare=True)"
      ],
      "execution_count": null,
      "outputs": []
    },
    {
      "cell_type": "code",
      "metadata": {
        "id": "V2QPGagjeQaa"
      },
      "source": [
        "vis.plot_transformed_image(\"test_images/1941GeorgiaFarmhouse.jpg\", render_factor=43, compare=True)"
      ],
      "execution_count": null,
      "outputs": []
    },
    {
      "cell_type": "code",
      "metadata": {
        "id": "8z61OtGreQac"
      },
      "source": [
        "vis.plot_transformed_image(\"test_images/1934UmbriaItaly.jpg\", render_factor=21) "
      ],
      "execution_count": null,
      "outputs": []
    },
    {
      "cell_type": "code",
      "metadata": {
        "id": "kYmOOq9TeQad"
      },
      "source": [
        "vis.plot_transformed_image(\"test_images/1900sLadiesTeaParty.jpg\", compare=True)"
      ],
      "execution_count": null,
      "outputs": []
    },
    {
      "cell_type": "code",
      "metadata": {
        "id": "GO3DR5rQeQae"
      },
      "source": [
        "vis.plot_transformed_image(\"test_images/1919WWIAviationOxygenMask.jpg\", compare=True)"
      ],
      "execution_count": null,
      "outputs": []
    },
    {
      "cell_type": "code",
      "metadata": {
        "id": "DWUrg4eneQae"
      },
      "source": [
        "vis.plot_transformed_image(\"test_images/1900NJThanksgiving.jpg\", compare=True)"
      ],
      "execution_count": null,
      "outputs": []
    },
    {
      "cell_type": "code",
      "metadata": {
        "id": "sVjLtx-aeQaf"
      },
      "source": [
        "vis.plot_transformed_image(\"test_images/1940Connecticut.jpg\", render_factor=43, compare=True)"
      ],
      "execution_count": null,
      "outputs": []
    },
    {
      "cell_type": "code",
      "metadata": {
        "id": "4P93jXVZeQaf"
      },
      "source": [
        "vis.plot_transformed_image(\"test_images/1940Connecticut.jpg\", render_factor=i, compare=True)"
      ],
      "execution_count": null,
      "outputs": []
    },
    {
      "cell_type": "code",
      "metadata": {
        "id": "xuMPf5FVeQaf"
      },
      "source": [
        "vis.plot_transformed_image(\"test_images/1911ThanksgivingMaskers.jpg\", render_factor=35, compare=True)"
      ],
      "execution_count": null,
      "outputs": []
    },
    {
      "cell_type": "code",
      "metadata": {
        "id": "U1t_J0lBeQag"
      },
      "source": [
        "vis.plot_transformed_image(\"test_images/1910ThanksgivingMaskersII.jpg\", compare=True)"
      ],
      "execution_count": null,
      "outputs": []
    },
    {
      "cell_type": "code",
      "metadata": {
        "id": "1q0stUgOeQag"
      },
      "source": [
        "vis.plot_transformed_image(\"test_images/1936PetToad.jpg\", compare=True)"
      ],
      "execution_count": null,
      "outputs": []
    },
    {
      "cell_type": "code",
      "metadata": {
        "id": "6apZQy5SeQah"
      },
      "source": [
        "vis.plot_transformed_image(\"test_images/1908RookeriesLondon.jpg\", compare=True)"
      ],
      "execution_count": null,
      "outputs": []
    },
    {
      "cell_type": "code",
      "metadata": {
        "id": "LUcZa4ZmeQah"
      },
      "source": [
        "vis.plot_transformed_image(\"test_images/1890sChineseImmigrants.jpg\", render_factor=25, compare=True)"
      ],
      "execution_count": null,
      "outputs": []
    },
    {
      "cell_type": "code",
      "metadata": {
        "id": "4t-QTPmreQah"
      },
      "source": [
        "vis.plot_transformed_image(\"test_images/1897VancouverAmberlamps.jpg\", compare=True)"
      ],
      "execution_count": null,
      "outputs": []
    },
    {
      "cell_type": "code",
      "metadata": {
        "id": "bpc-QNL4eQan"
      },
      "source": [
        "vis.plot_transformed_image(\"test_images/1929VictorianCosplayLondon.jpg\", render_factor=35, compare=True)"
      ],
      "execution_count": null,
      "outputs": []
    },
    {
      "cell_type": "code",
      "metadata": {
        "id": "jOkoD5nJeQa2"
      },
      "source": [
        "vis.plot_transformed_image(\"test_images/1959ParisFriends.png\", render_factor=40, compare=True)"
      ],
      "execution_count": null,
      "outputs": []
    },
    {
      "cell_type": "code",
      "metadata": {
        "id": "MVgifCTheQa3"
      },
      "source": [
        "vis.plot_transformed_image(\"test_images/1925GypsyCampMaryland.jpg\", render_factor=40, compare=True)"
      ],
      "execution_count": null,
      "outputs": []
    },
    {
      "cell_type": "code",
      "metadata": {
        "id": "7XIudr3geQb5"
      },
      "source": [
        "vis.plot_transformed_image(\"test_images/1941PoolTableGeorgia.jpg\", render_factor=45, compare=True)"
      ],
      "execution_count": null,
      "outputs": []
    },
    {
      "cell_type": "code",
      "metadata": {
        "id": "JYNLMszieQb5"
      },
      "source": [
        "vis.plot_transformed_image(\"test_images/1900ParkDog.jpg\", compare=True)"
      ],
      "execution_count": null,
      "outputs": []
    },
    {
      "cell_type": "code",
      "metadata": {
        "id": "i-uIzXWweQb5"
      },
      "source": [
        "vis.plot_transformed_image(\"test_images/1886Hoop.jpg\", compare=True)"
      ],
      "execution_count": null,
      "outputs": []
    },
    {
      "cell_type": "code",
      "metadata": {
        "id": "4ehvpUVpeQb6"
      },
      "source": [
        "vis.plot_transformed_image(\"test_images/1950sLondonPoliceChild.jpg\", compare=True)"
      ],
      "execution_count": null,
      "outputs": []
    },
    {
      "cell_type": "code",
      "metadata": {
        "id": "E2DkAGSOeQb7"
      },
      "source": [
        "vis.plot_transformed_image(\"test_images/1886ProspectPark.jpg\", compare=True)"
      ],
      "execution_count": null,
      "outputs": []
    },
    {
      "cell_type": "code",
      "metadata": {
        "id": "aKrhnTfCeQb7"
      },
      "source": [
        "vis.plot_transformed_image(\"test_images/1930sRooftopPoland.jpg\", compare=True)"
      ],
      "execution_count": null,
      "outputs": []
    },
    {
      "cell_type": "code",
      "metadata": {
        "id": "zuzFdne-eQb7"
      },
      "source": [
        "vis.plot_transformed_image(\"test_images/1919RevereBeach.jpg\", compare=True)"
      ],
      "execution_count": null,
      "outputs": []
    },
    {
      "cell_type": "code",
      "metadata": {
        "id": "s1LMxcbxeQb8"
      },
      "source": [
        "vis.plot_transformed_image(\"test_images/1936ParisCafe.jpg\", render_factor=46, compare=True)"
      ],
      "execution_count": null,
      "outputs": []
    },
    {
      "cell_type": "code",
      "metadata": {
        "id": "1xeAdSm8eQb8"
      },
      "source": [
        "vis.plot_transformed_image(\"test_images/1902FrenchYellowBellies.jpg\", compare=True)"
      ],
      "execution_count": null,
      "outputs": []
    },
    {
      "cell_type": "code",
      "metadata": {
        "id": "6hECr7HLeQb8"
      },
      "source": [
        "vis.plot_transformed_image(\"test_images/1940PAFamily.jpg\", render_factor=42, compare=True)"
      ],
      "execution_count": null,
      "outputs": []
    },
    {
      "cell_type": "code",
      "metadata": {
        "id": "6nC8v0npeQb8"
      },
      "source": [
        "vis.plot_transformed_image(\"test_images/1910Finland.jpg\", render_factor=40, compare=True)"
      ],
      "execution_count": null,
      "outputs": []
    },
    {
      "cell_type": "code",
      "metadata": {
        "id": "hXku7EToeQb-"
      },
      "source": [
        "vis.plot_transformed_image(\"test_images/ZebraCarriageLondon1900.jpg\", compare=True)"
      ],
      "execution_count": null,
      "outputs": []
    },
    {
      "cell_type": "code",
      "metadata": {
        "id": "vGgrKSTJeQb-"
      },
      "source": [
        "vis.plot_transformed_image(\"test_images/1904ChineseMan.jpg\", compare=True)"
      ],
      "execution_count": null,
      "outputs": []
    },
    {
      "cell_type": "code",
      "metadata": {
        "id": "mGWicXg4eQb-"
      },
      "source": [
        "vis.plot_transformed_image(\"test_images/CrystalPalaceLondon1854.PNG\", compare=True)"
      ],
      "execution_count": null,
      "outputs": []
    },
    {
      "cell_type": "code",
      "metadata": {
        "id": "3EvAoArxeQb-"
      },
      "source": [
        "vis.plot_transformed_image(\"test_images/James1.jpg\", render_factor=15, compare=True)"
      ],
      "execution_count": null,
      "outputs": []
    },
    {
      "cell_type": "code",
      "metadata": {
        "id": "kuwdGu78eQb_"
      },
      "source": [
        "vis.plot_transformed_image(\"test_images/James2.jpg\", render_factor=20, compare=True)"
      ],
      "execution_count": null,
      "outputs": []
    },
    {
      "cell_type": "code",
      "metadata": {
        "id": "3uqTFM2xeQb_"
      },
      "source": [
        "vis.plot_transformed_image(\"test_images/James3.jpg\", render_factor=19, compare=True)"
      ],
      "execution_count": null,
      "outputs": []
    },
    {
      "cell_type": "code",
      "metadata": {
        "id": "auENWhj0eQcA"
      },
      "source": [
        "vis.plot_transformed_image(\"test_images/James4.jpg\", render_factor=30, compare=True)"
      ],
      "execution_count": null,
      "outputs": []
    },
    {
      "cell_type": "code",
      "metadata": {
        "id": "T1qBVKq4eQcA"
      },
      "source": [
        "vis.plot_transformed_image(\"test_images/James5.jpg\", render_factor=32, compare=True)"
      ],
      "execution_count": null,
      "outputs": []
    },
    {
      "cell_type": "code",
      "metadata": {
        "id": "jySQ0s-YeQcB"
      },
      "source": [
        "vis.plot_transformed_image(\"test_images/James6.jpg\", render_factor=28, compare=True)"
      ],
      "execution_count": null,
      "outputs": []
    }
  ]
}